{
 "cells": [
  {
   "cell_type": "code",
   "execution_count": 35,
   "metadata": {},
   "outputs": [
    {
     "name": "stdout",
     "output_type": "stream",
     "text": [
      "Part 1: 2756096\n",
      "Part 2: 23117829\n"
     ]
    }
   ],
   "source": [
    "from collections import Counter\n",
    "\n",
    "input_text = open(\"inputs/day1.txt\", \"r\").read().split(\"\\n\")\n",
    "pairs = [s.split() for s in input_text]\n",
    "list_1 = [int(s[0]) for s in pairs]\n",
    "list_2 = [int(s[1]) for s in pairs]\n",
    "\n",
    "part_1_asnwer = sum([abs(x - y) for x, y in zip(sorted(list_1), sorted(list_2))])\n",
    "print(f\"Part 1: {part_1_asnwer}\")\n",
    "\n",
    "list_2_counter = Counter(list_2)\n",
    "part_2_answer = sum([x * list_2_counter[x] for x in list_1])\n",
    "print(f\"Part 2: {part_2_answer}\")"
   ]
  },
  {
   "cell_type": "code",
   "execution_count": null,
   "metadata": {},
   "outputs": [],
   "source": []
  }
 ],
 "metadata": {
  "kernelspec": {
   "display_name": "advent-of-code",
   "language": "python",
   "name": "python3"
  },
  "language_info": {
   "codemirror_mode": {
    "name": "ipython",
    "version": 3
   },
   "file_extension": ".py",
   "mimetype": "text/x-python",
   "name": "python",
   "nbconvert_exporter": "python",
   "pygments_lexer": "ipython3",
   "version": "3.12.1"
  }
 },
 "nbformat": 4,
 "nbformat_minor": 2
}
