{
 "cells": [
  {
   "cell_type": "code",
   "execution_count": 2,
   "metadata": {},
   "outputs": [
    {
     "name": "stdout",
     "output_type": "stream",
     "text": [
      "Part 1: 35255\n",
      "Part 2: 87582154060429\n"
     ]
    }
   ],
   "source": [
    "import re\n",
    "from sympy import Eq, solve\n",
    "from sympy.abc import a, b\n",
    "from sympy.core.numbers import Integer\n",
    "\n",
    "\n",
    "def parse_input(text):\n",
    "    expression_x = r\"X\\+(\\d+)\"\n",
    "    total_x = r\"X=(\\d+)\"\n",
    "    matches_x = [int(x) for x in re.findall(expression_x, text)]\n",
    "    total_matches_x = [int(x) for x in re.findall(total_x, text)]\n",
    "    expression_y = r\"Y\\+(\\d+)\"\n",
    "    total_y = r\"Y=(\\d+)\"\n",
    "    matches_y = [int(y) for y in re.findall(expression_y, text)]\n",
    "    total_matches_y = [int(y) for y in re.findall(total_y, text)]\n",
    "\n",
    "    xs = list(zip(matches_x[::2], matches_x[1::2]))\n",
    "    ys = list(zip(matches_y[::2], matches_y[1::2]))\n",
    "\n",
    "    parsed_input = {\n",
    "        \"xs\": xs,\n",
    "        \"ys\": ys,\n",
    "        \"xtotal\": total_matches_x,\n",
    "        \"ytotal\": total_matches_y,\n",
    "    }\n",
    "    return parsed_input\n",
    "\n",
    "\n",
    "def calc_presses(parse_input, offset=0):\n",
    "    cost = 0\n",
    "    for i in range(len(parsed_input[\"xs\"])):\n",
    "        sol = solve(\n",
    "            [\n",
    "                Eq(\n",
    "                    parsed_input[\"xs\"][i][0] * a + parsed_input[\"xs\"][i][1] * b,\n",
    "                    parsed_input[\"xtotal\"][i] + offset,\n",
    "                ),\n",
    "                Eq(\n",
    "                    parsed_input[\"ys\"][i][0] * a + parsed_input[\"ys\"][i][1] * b,\n",
    "                    parsed_input[\"ytotal\"][i] + offset,\n",
    "                ),\n",
    "            ]\n",
    "        )\n",
    "        if isinstance(sol[a], Integer) and isinstance(sol[b], Integer):\n",
    "            cost += (sol[a] * 3) + sol[b]\n",
    "    return cost\n",
    "\n",
    "\n",
    "input_text = open(\"inputs/day13.txt\", \"r\").read()\n",
    "parsed_input = parse_input(input_text)\n",
    "print(f\"Part 1: {calc_presses(parsed_input)}\")\n",
    "print(f\"Part 2: {calc_presses(parsed_input, offset=10000000000000)}\")"
   ]
  },
  {
   "cell_type": "code",
   "execution_count": null,
   "metadata": {},
   "outputs": [],
   "source": []
  }
 ],
 "metadata": {
  "kernelspec": {
   "display_name": "advent-of-code",
   "language": "python",
   "name": "python3"
  },
  "language_info": {
   "codemirror_mode": {
    "name": "ipython",
    "version": 3
   },
   "file_extension": ".py",
   "mimetype": "text/x-python",
   "name": "python",
   "nbconvert_exporter": "python",
   "pygments_lexer": "ipython3",
   "version": "3.12.1"
  }
 },
 "nbformat": 4,
 "nbformat_minor": 2
}
