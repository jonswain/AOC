{
 "cells": [
  {
   "cell_type": "code",
   "execution_count": 1,
   "metadata": {},
   "outputs": [
    {
     "name": "stdout",
     "output_type": "stream",
     "text": [
      "Part 1: 694\n",
      "Part 2: 1497\n"
     ]
    }
   ],
   "source": [
    "import numpy as np\n",
    "\n",
    "\n",
    "def make_array(input_text):\n",
    "    return np.array([[int(x) for x in line] for line in input_text.split()])\n",
    "\n",
    "\n",
    "def find_start_positions(arr):\n",
    "    start_positions = []\n",
    "    for i in range(len(arr)):\n",
    "        for j in range(len(arr[0])):\n",
    "            if arr[i][j] == 0:\n",
    "                start_positions.append((i, j))\n",
    "    return start_positions\n",
    "\n",
    "\n",
    "def check_neighbours(arr, pos):\n",
    "    i, j = pos\n",
    "    neighbours = []\n",
    "    if i > 0:\n",
    "        neighbours.append((i - 1, j))\n",
    "    if i < len(arr) - 1:\n",
    "        neighbours.append((i + 1, j))\n",
    "    if j > 0:\n",
    "        neighbours.append((i, j - 1))\n",
    "    if j < len(arr[0]) - 1:\n",
    "        neighbours.append((i, j + 1))\n",
    "    return neighbours\n",
    "\n",
    "\n",
    "def depth_first_search(hiking_map, start_position, allow_duplicates=False):\n",
    "    route_scores = []\n",
    "    for start_position in start_positions:\n",
    "        visited = set()\n",
    "        end_positions = []\n",
    "        to_check = []\n",
    "        to_check.append(start_position)\n",
    "        while to_check:\n",
    "            position = to_check.pop()\n",
    "            if not allow_duplicates:\n",
    "                if position in visited:\n",
    "                    continue\n",
    "                visited.add(position)\n",
    "            current_value = hiking_map[position[0]][position[1]]\n",
    "            if current_value == 9:\n",
    "                end_positions.append(position)\n",
    "            else:\n",
    "                for neighbour in check_neighbours(hiking_map, position):\n",
    "                    if hiking_map[neighbour[0]][neighbour[1]] == (current_value + 1):\n",
    "                        to_check.append(neighbour)\n",
    "        if allow_duplicates:\n",
    "            route_scores.append(len(end_positions))\n",
    "        else:\n",
    "            route_scores.append(len(set(end_positions)))\n",
    "    return route_scores\n",
    "\n",
    "\n",
    "input_text = open(\"inputs/day10.txt\", \"r\").read()\n",
    "\n",
    "hiking_map = make_array(input_text)\n",
    "start_positions = find_start_positions(hiking_map)\n",
    "\n",
    "print(f\"Part 1: {sum(depth_first_search(hiking_map, start_positions))}\")\n",
    "print(\n",
    "    f\"Part 2: {sum(depth_first_search(hiking_map, start_positions, allow_duplicates=True))}\"\n",
    ")"
   ]
  },
  {
   "cell_type": "code",
   "execution_count": null,
   "metadata": {},
   "outputs": [],
   "source": []
  }
 ],
 "metadata": {
  "kernelspec": {
   "display_name": "advent-of-code",
   "language": "python",
   "name": "python3"
  },
  "language_info": {
   "codemirror_mode": {
    "name": "ipython",
    "version": 3
   },
   "file_extension": ".py",
   "mimetype": "text/x-python",
   "name": "python",
   "nbconvert_exporter": "python",
   "pygments_lexer": "ipython3",
   "version": "3.12.7"
  }
 },
 "nbformat": 4,
 "nbformat_minor": 2
}
