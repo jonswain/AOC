{
 "cells": [
  {
   "cell_type": "code",
   "execution_count": 71,
   "metadata": {},
   "outputs": [
    {
     "name": "stdout",
     "output_type": "stream",
     "text": [
      "Part 1: 6034\n",
      "Part 2: 6305\n"
     ]
    }
   ],
   "source": [
    "from collections import defaultdict\n",
    "\n",
    "\n",
    "def parse_input(input_text):\n",
    "    rules, pages = input_text.split(\"\\n\\n\")\n",
    "    pages = [page.split(\",\") for page in pages.split(\"\\n\")]\n",
    "    rules_list = [rule.split(\"|\") for rule in rules.split(\"\\n\")]\n",
    "    return rules_list, pages\n",
    "\n",
    "\n",
    "def check_in_order(set_of_pages):\n",
    "    for idx, page in enumerate(set_of_pages):\n",
    "        preceeding_pages = set_of_pages[:idx]\n",
    "        for rest_page in preceeding_pages:\n",
    "            if rest_page in rules_dict[page]:\n",
    "                return False\n",
    "    return True\n",
    "\n",
    "\n",
    "def fix_order(set_of_pages):\n",
    "    while not check_in_order(set_of_pages):\n",
    "        for i in range(len(set_of_pages)):\n",
    "            for j in range(i, len(set_of_pages)):\n",
    "                if [set_of_pages[j], set_of_pages[i]] in rules_list:\n",
    "                    set_of_pages[j], set_of_pages[i] = set_of_pages[i], set_of_pages[j]\n",
    "    return set_of_pages\n",
    "\n",
    "\n",
    "input_text = open(\"inputs/day5.txt\", \"r\").read()\n",
    "rules_list, pages = parse_input(input_text)\n",
    "rules_dict = defaultdict(list)\n",
    "for rule in rules_list:\n",
    "    rules_dict[rule[0]].append(rule[1])\n",
    "\n",
    "correct = []\n",
    "wrong = []\n",
    "for set_of_pages in pages:\n",
    "    if check_in_order(set_of_pages):\n",
    "        correct.append(set_of_pages[len(set_of_pages) // 2])\n",
    "    else:\n",
    "        wrong.append(fix_order(set_of_pages)[len(set_of_pages) // 2])\n",
    "\n",
    "print(f\"Part 1: {sum([int(x) for x in correct])}\")\n",
    "print(f\"Part 2: {sum([int(x) for x in wrong])}\")"
   ]
  },
  {
   "cell_type": "code",
   "execution_count": null,
   "metadata": {},
   "outputs": [],
   "source": []
  }
 ],
 "metadata": {
  "kernelspec": {
   "display_name": "advent-of-code",
   "language": "python",
   "name": "python3"
  },
  "language_info": {
   "codemirror_mode": {
    "name": "ipython",
    "version": 3
   },
   "file_extension": ".py",
   "mimetype": "text/x-python",
   "name": "python",
   "nbconvert_exporter": "python",
   "pygments_lexer": "ipython3",
   "version": "3.12.1"
  }
 },
 "nbformat": 4,
 "nbformat_minor": 2
}
