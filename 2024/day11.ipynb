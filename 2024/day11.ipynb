{
 "cells": [
  {
   "cell_type": "code",
   "execution_count": null,
   "metadata": {},
   "outputs": [
    {
     "name": "stdout",
     "output_type": "stream",
     "text": [
      "Part 1: 200446\n",
      "Part 2: 238317474993392\n"
     ]
    }
   ],
   "source": [
    "from collections import Counter, defaultdict\n",
    "\n",
    "\n",
    "def count_stones(input_text):\n",
    "    return Counter([int(x) for x in input_text.split()])\n",
    "\n",
    "\n",
    "def update_stone(stone):\n",
    "    if stone == 0:\n",
    "        return 1\n",
    "    elif (len(str(stone)) % 2) == 0:\n",
    "        return int(str(stone)[: len(str(stone)) // 2]), int(\n",
    "            str(stone)[len(str(stone)) // 2 :]\n",
    "        )\n",
    "    else:\n",
    "        return stone * 2024\n",
    "\n",
    "\n",
    "def blink(stones_dict, blinks):\n",
    "    for _ in range(0, blinks):\n",
    "        next_stage = defaultdict(int)\n",
    "        for stone, count in stones_dict.items():\n",
    "            updated_stone = update_stone(stone)\n",
    "            if isinstance(updated_stone, tuple):\n",
    "                next_stage[updated_stone[0]] += count\n",
    "                next_stage[updated_stone[1]] += count\n",
    "            else:\n",
    "                next_stage[updated_stone] += count\n",
    "        stones_dict = next_stage\n",
    "    return sum(stones_dict.values())\n",
    "\n",
    "\n",
    "input_text = open(\"inputs/day11.txt\", \"r\").read()\n",
    "stones_dict = count_stones(input_text)\n",
    "print(f\"Part 1: {blink(stones_dict, 25)}\")\n",
    "print(f\"Part 2: {blink(stones_dict, 75)}\")"
   ]
  }
 ],
 "metadata": {
  "kernelspec": {
   "display_name": "advent-of-code",
   "language": "python",
   "name": "python3"
  },
  "language_info": {
   "codemirror_mode": {
    "name": "ipython",
    "version": 3
   },
   "file_extension": ".py",
   "mimetype": "text/x-python",
   "name": "python",
   "nbconvert_exporter": "python",
   "pygments_lexer": "ipython3",
   "version": "3.12.7"
  }
 },
 "nbformat": 4,
 "nbformat_minor": 2
}
