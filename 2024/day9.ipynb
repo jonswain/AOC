{
 "cells": [
  {
   "cell_type": "code",
   "execution_count": null,
   "metadata": {},
   "outputs": [
    {
     "name": "stdout",
     "output_type": "stream",
     "text": [
      "Part 1: 6288599492129\n",
      "Part 2: 6321896265143\n"
     ]
    }
   ],
   "source": [
    "from collections import deque\n",
    "from itertools import zip_longest\n",
    "\n",
    "\n",
    "def parse_input(text):\n",
    "    files = [(int(memory), i) for i, memory in enumerate(text[::2])]\n",
    "    free_space = [(int(memory), \".\") for memory in text[1::2]]\n",
    "    zipped = list(zip_longest(files, free_space, fillvalue=(0, \".\")))\n",
    "    return [item for sublist in zipped for item in sublist]\n",
    "\n",
    "\n",
    "def calc_checksum(fixed):\n",
    "    checksum = 0\n",
    "    counter = 0\n",
    "    for file_length, file_idx in fixed:\n",
    "        if file_idx == \".\":\n",
    "            file_idx = 0\n",
    "        checksum += sum(counter + i for i in range(file_length)) * file_idx\n",
    "        counter += file_length\n",
    "    return checksum\n",
    "\n",
    "\n",
    "def fix_memory(parsed_input, part=1):\n",
    "    fixed = deque()\n",
    "    for idx, (memory, value) in enumerate(parsed_input):\n",
    "        if value != \".\":\n",
    "            fixed.append((memory, value))\n",
    "        else:\n",
    "            while memory > 0:\n",
    "                if part == 1:\n",
    "                    if parsed_input[-1][1] == \".\":\n",
    "                        parsed_input.pop()\n",
    "\n",
    "                    next_block_memory, next_block_value = parsed_input[-1]\n",
    "                    if next_block_memory <= memory:\n",
    "                        fixed.append((next_block_memory, next_block_value))\n",
    "                        memory -= next_block_memory\n",
    "                        parsed_input.pop()\n",
    "                    else:\n",
    "                        fixed.append((memory, next_block_value))\n",
    "                        parsed_input.pop()\n",
    "                        parsed_input.append(\n",
    "                            (next_block_memory - memory, next_block_value)\n",
    "                        )\n",
    "                        memory = 0\n",
    "                else:\n",
    "                    for next_block_memory, next_block_value in parsed_input[:idx:-1]:\n",
    "                        if next_block_value == \".\":\n",
    "                            continue\n",
    "                        if next_block_memory <= memory:\n",
    "                            fixed.append((next_block_memory, next_block_value))\n",
    "                            memory -= next_block_memory\n",
    "\n",
    "                            idx_to_remove = parsed_input.index(\n",
    "                                (next_block_memory, next_block_value)\n",
    "                            )\n",
    "                            parsed_input.pop(idx_to_remove)\n",
    "                            parsed_input.insert(idx_to_remove, (next_block_memory, \".\"))\n",
    "                        if memory == 0:\n",
    "                            break\n",
    "                    if memory > 0:\n",
    "                        fixed.append((memory, \".\"))\n",
    "                    break\n",
    "\n",
    "    if len(fixed) % 2 == 1:\n",
    "        fixed.pop()\n",
    "    return fixed\n",
    "\n",
    "\n",
    "input_text = open(\"inputs/day9.txt\", \"r\").read()\n",
    "\n",
    "print(f\"Part 1: {calc_checksum(fix_memory(parse_input(input_text)))}\")\n",
    "print(f\"Part 2: {calc_checksum(fix_memory(parse_input(input_text), part=2))}\")"
   ]
  },
  {
   "cell_type": "code",
   "execution_count": null,
   "metadata": {},
   "outputs": [],
   "source": []
  }
 ],
 "metadata": {
  "kernelspec": {
   "display_name": "advent-of-code",
   "language": "python",
   "name": "python3"
  },
  "language_info": {
   "codemirror_mode": {
    "name": "ipython",
    "version": 3
   },
   "file_extension": ".py",
   "mimetype": "text/x-python",
   "name": "python",
   "nbconvert_exporter": "python",
   "pygments_lexer": "ipython3",
   "version": "3.12.7"
  }
 },
 "nbformat": 4,
 "nbformat_minor": 2
}
