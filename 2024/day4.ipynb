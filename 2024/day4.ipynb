{
 "cells": [
  {
   "cell_type": "code",
   "execution_count": 229,
   "metadata": {},
   "outputs": [
    {
     "name": "stdout",
     "output_type": "stream",
     "text": [
      "Part 1: 2549\n",
      "Part 2: 2003\n"
     ]
    }
   ],
   "source": [
    "import numpy as np\n",
    "\n",
    "padding = 3\n",
    "\n",
    "input_text = open(\"inputs/day4.txt\", \"r\").read()\n",
    "example_list = [list(line) for line in input_text.split(\"\\n\")]\n",
    "arr = np.array(example_list)\n",
    "arr = np.pad(arr, padding, mode=\"constant\", constant_values=\"O\")\n",
    "\n",
    "\n",
    "def find_start_point(arr, i, j, start_letter=\"X\"):\n",
    "    if arr[i][j] == start_letter:\n",
    "        return True\n",
    "    return False\n",
    "\n",
    "\n",
    "def get_letters_part_1(arr, i, j):\n",
    "    down = arr[i, j], arr[i + 1, j], arr[i + 2, j], arr[i + 3, j]\n",
    "    up = arr[i, j], arr[i - 1, j], arr[i - 2, j], arr[i - 3, j]\n",
    "    right = arr[i, j], arr[i, j + 1], arr[i, j + 2], arr[i, j + 3]\n",
    "    left = arr[i, j], arr[i, j - 1], arr[i, j - 2], arr[i, j - 3]\n",
    "    up_left = arr[i, j], arr[i - 1, j - 1], arr[i - 2, j - 2], arr[i - 3, j - 3]\n",
    "    up_right = arr[i, j], arr[i - 1, j + 1], arr[i - 2, j + 2], arr[i - 3, j + 3]\n",
    "    down_left = arr[i, j], arr[i + 1, j - 1], arr[i + 2, j - 2], arr[i + 3, j - 3]\n",
    "    down_right = arr[i, j], arr[i + 1, j + 1], arr[i + 2, j + 2], arr[i + 3, j + 3]\n",
    "    return down, up, right, left, up_left, up_right, down_left, down_right\n",
    "\n",
    "\n",
    "def check_letters(letters, patterns):\n",
    "    word = \"\".join(list(letters))\n",
    "    return word in patterns\n",
    "\n",
    "\n",
    "def get_letters_part_2(arr, i, j):\n",
    "    diag = (\n",
    "        arr[i - 1, j - 1],  # up left\n",
    "        arr[i + 1, j + 1],  # down right\n",
    "        arr[i - 1, j + 1],  # up right\n",
    "        arr[i + 1, j - 1],  # down left\n",
    "    )\n",
    "    return [diag]\n",
    "\n",
    "\n",
    "def count_xmas(start_point, patterns, get_letter_func, arr):\n",
    "    count = 0\n",
    "    for i in range(padding, arr.shape[0] - padding):\n",
    "        for j in range(padding, arr.shape[1] - padding):\n",
    "            if find_start_point(arr, i, j, start_point):\n",
    "                for letters in get_letter_func(arr, i, j):\n",
    "                    if check_letters(letters, patterns=patterns):\n",
    "                        count += 1\n",
    "    return count\n",
    "\n",
    "\n",
    "part_1 = count_xmas(\"X\", [\"XMAS\"], get_letters_part_1, arr)\n",
    "part_2 = count_xmas(\"A\", [\"MSSM\", \"SMSM\", \"SMMS\", \"MSMS\"], get_letters_part_2, arr)\n",
    "\n",
    "print(f\"Part 1: {part_1}\")\n",
    "print(f\"Part 2: {part_2}\")"
   ]
  },
  {
   "cell_type": "code",
   "execution_count": null,
   "metadata": {},
   "outputs": [],
   "source": []
  }
 ],
 "metadata": {
  "kernelspec": {
   "display_name": "advent-of-code",
   "language": "python",
   "name": "python3"
  },
  "language_info": {
   "codemirror_mode": {
    "name": "ipython",
    "version": 3
   },
   "file_extension": ".py",
   "mimetype": "text/x-python",
   "name": "python",
   "nbconvert_exporter": "python",
   "pygments_lexer": "ipython3",
   "version": "3.12.1"
  }
 },
 "nbformat": 4,
 "nbformat_minor": 2
}
