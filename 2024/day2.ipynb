{
 "cells": [
  {
   "cell_type": "code",
   "execution_count": null,
   "metadata": {},
   "outputs": [
    {
     "name": "stdout",
     "output_type": "stream",
     "text": [
      "Part 1: 526\n",
      "Part 2: 566\n"
     ]
    }
   ],
   "source": [
    "input_text = open(\"inputs/day2.txt\", \"r\").read().split(\"\\n\")\n",
    "lines = [line.split(\" \") for line in input_text]\n",
    "lines = [[int(x) for x in line] for line in lines]\n",
    "\n",
    "\n",
    "def check_safe(line):\n",
    "    if (\n",
    "        ((sorted(line) == line) or (sorted(line, reverse=True) == line))\n",
    "        and (max([abs(a - b) for a, b in zip(line[:-1], line[1:])]) < 4)\n",
    "        and (len(set(line)) == len(line))\n",
    "    ):\n",
    "        return True\n",
    "    return False\n",
    "\n",
    "\n",
    "print(f\"Part 1: {sum([check_safe(line) for line in lines])}\")\n",
    "\n",
    "count = 0\n",
    "for line in lines:\n",
    "    if check_safe(line):\n",
    "        count += 1\n",
    "    else:\n",
    "        for position in range(len(line)):\n",
    "            new_line = line[:position] + line[position + 1 :]\n",
    "            if check_safe(new_line):\n",
    "                count += 1\n",
    "                break\n",
    "\n",
    "print(f\"Part 2: {count}\")"
   ]
  },
  {
   "cell_type": "code",
   "execution_count": null,
   "metadata": {},
   "outputs": [],
   "source": []
  }
 ],
 "metadata": {
  "kernelspec": {
   "display_name": "advent-of-code",
   "language": "python",
   "name": "python3"
  },
  "language_info": {
   "codemirror_mode": {
    "name": "ipython",
    "version": 3
   },
   "file_extension": ".py",
   "mimetype": "text/x-python",
   "name": "python",
   "nbconvert_exporter": "python",
   "pygments_lexer": "ipython3",
   "version": "3.12.1"
  }
 },
 "nbformat": 4,
 "nbformat_minor": 2
}
