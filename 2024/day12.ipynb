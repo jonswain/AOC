{
 "cells": [
  {
   "cell_type": "code",
   "execution_count": 6,
   "metadata": {},
   "outputs": [],
   "source": [
    "import numpy as np\n",
    "from collections import deque"
   ]
  },
  {
   "cell_type": "code",
   "execution_count": 7,
   "metadata": {},
   "outputs": [],
   "source": [
    "example = \"\"\"RRRRIICCFF\n",
    "RRRRIICCCF\n",
    "VVRRRCCFFF\n",
    "VVRCCCJFFF\n",
    "VVVVCJJCFE\n",
    "VVIVCCJJEE\n",
    "VVIIICJJEE\n",
    "MIIIIIJJEE\n",
    "MIIISIJEEE\n",
    "MMMISSJEEE\"\"\"\n",
    "\n",
    "input_text = open(\"inputs/day12.txt\", \"r\").read()"
   ]
  },
  {
   "cell_type": "code",
   "execution_count": 8,
   "metadata": {},
   "outputs": [],
   "source": [
    "def get_neighbours(matrix, i, j):\n",
    "    neighbours = []\n",
    "    if i > 0:\n",
    "        neighbours.append((i - 1, j))\n",
    "    if i < matrix.shape[0] - 1:\n",
    "        neighbours.append((i + 1, j))\n",
    "    if j > 0:\n",
    "        neighbours.append((i, j - 1))\n",
    "    if j < matrix.shape[1] - 1:\n",
    "        neighbours.append((i, j + 1))\n",
    "    return neighbours\n",
    "\n",
    "\n",
    "def get_size_and_perimeter(garden_coordinates, matrix):\n",
    "    size = len(garden_coordinates)\n",
    "    perimeter = 0\n",
    "\n",
    "    for i, j in garden_coordinates:\n",
    "        perimeter += 4\n",
    "        for ni, nj in get_neighbours(matrix, i, j):\n",
    "            if (ni, nj) in garden_coordinates:\n",
    "                perimeter -= 1\n",
    "\n",
    "    return size, perimeter"
   ]
  },
  {
   "cell_type": "code",
   "execution_count": 9,
   "metadata": {},
   "outputs": [
    {
     "data": {
      "text/plain": [
       "array([['S', 'S', 'S', ..., 'O', 'O', 'O'],\n",
       "       ['S', 'S', 'S', ..., 'O', 'O', 'O'],\n",
       "       ['S', 'S', 'S', ..., 'O', 'O', 'O'],\n",
       "       ...,\n",
       "       ['P', 'P', 'P', ..., 'O', 'O', 'O'],\n",
       "       ['P', 'P', 'P', ..., 'O', 'O', 'O'],\n",
       "       ['R', 'R', 'P', ..., 'O', 'O', 'O']], dtype='<U1')"
      ]
     },
     "execution_count": 9,
     "metadata": {},
     "output_type": "execute_result"
    }
   ],
   "source": [
    "garden_map = np.array([list(row) for row in input_text.split(\"\\n\")])\n",
    "garden_map"
   ]
  },
  {
   "cell_type": "code",
   "execution_count": 10,
   "metadata": {},
   "outputs": [
    {
     "name": "stdout",
     "output_type": "stream",
     "text": [
      "Total price to pay: 1473178\n"
     ]
    }
   ],
   "source": [
    "locations_mapped = set()\n",
    "costs = 0\n",
    "\n",
    "for i in range(garden_map.shape[0]):\n",
    "    for j in range(garden_map.shape[1]):\n",
    "        # if i > 0:\n",
    "        #     break\n",
    "        # if j > 0:\n",
    "        #     break\n",
    "        if (i, j) in locations_mapped:\n",
    "            continue\n",
    "\n",
    "        # print(f\"Starting at {i}, {j}\")\n",
    "        # print(f\"Current letter: {garden_map[i, j]}\")\n",
    "        current_letter = garden_map[i, j]\n",
    "        current_garden = set()\n",
    "        current_garden.add((i, j))\n",
    "\n",
    "        to_check = deque()\n",
    "        to_check.append((i, j))\n",
    "\n",
    "        while len(to_check) > 0:\n",
    "            # print(f\"Queue: {to_check}\")\n",
    "            i, j = to_check.popleft()\n",
    "            to_check_next = get_neighbours(garden_map, i, j)\n",
    "            # print(f\"Looking at neighbours: {to_check_next}\")\n",
    "            for i_next, j_next in to_check_next:\n",
    "                # print(f\"For neighbour {i_next}, {j_next}: {garden_map[i_next, j_next]}\")\n",
    "                if (\n",
    "                    garden_map[i_next, j_next] == current_letter\n",
    "                    and (i_next, j_next) not in current_garden\n",
    "                ):\n",
    "                    # print(f\"Same garden, adding {i_next}, {j_next}\")\n",
    "                    current_garden.add((i_next, j_next))\n",
    "                    to_check.append((i_next, j_next))\n",
    "\n",
    "                    # print(f\"Current garden: {current_garden}\")\n",
    "                    # print(f\"Current list to check: {to_check}\")\n",
    "            # print()\n",
    "\n",
    "        locations_mapped.update(current_garden)\n",
    "        size, perimeter = get_size_and_perimeter(current_garden, garden_map)\n",
    "        costs += size * perimeter\n",
    "        # print(f\"Current garden: {current_garden}\")\n",
    "        # print(f\"Size: {size}\")\n",
    "        # print(f\"Perimeter: {perimeter}\")\n",
    "        # print(f\"Price to pay: {size * perimeter}\")\n",
    "        # print()\n",
    "\n",
    "print(f\"Total price to pay: {costs}\")"
   ]
  },
  {
   "cell_type": "code",
   "execution_count": null,
   "metadata": {},
   "outputs": [],
   "source": [
    "\"1473178 - too low\""
   ]
  }
 ],
 "metadata": {
  "kernelspec": {
   "display_name": "advent-of-code",
   "language": "python",
   "name": "python3"
  },
  "language_info": {
   "codemirror_mode": {
    "name": "ipython",
    "version": 3
   },
   "file_extension": ".py",
   "mimetype": "text/x-python",
   "name": "python",
   "nbconvert_exporter": "python",
   "pygments_lexer": "ipython3",
   "version": "3.12.1"
  }
 },
 "nbformat": 4,
 "nbformat_minor": 2
}
