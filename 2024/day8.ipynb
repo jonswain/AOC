{
 "cells": [
  {
   "cell_type": "code",
   "execution_count": 4,
   "metadata": {},
   "outputs": [
    {
     "name": "stdout",
     "output_type": "stream",
     "text": [
      "Part 1: 291\n",
      "Part 2: 1015\n"
     ]
    }
   ],
   "source": [
    "import numpy as np\n",
    "from collections import defaultdict\n",
    "from itertools import combinations\n",
    "\n",
    "input_text = open(\"inputs/day8.txt\", \"r\").read()\n",
    "lines = input_text.split(\"\\n\")\n",
    "lines = [list(line) for line in lines]\n",
    "antenna_array = np.array(lines)\n",
    "\n",
    "antenna_dict = defaultdict(list)\n",
    "for i in range(0, len(antenna_array)):\n",
    "    for j in range(0, len(antenna_array[i])):\n",
    "        if antenna_array[i][j] != \".\":\n",
    "            antenna_dict[antenna_array[i][j]].append((i, j))\n",
    "\n",
    "\n",
    "def draw_antinodes(antenna_array, start=1, end=2):\n",
    "    antinode_map = np.zeros(antenna_array.shape)\n",
    "    for letter, coordinates in antenna_dict.items():\n",
    "        for point_1, point_2 in combinations(coordinates, 2):\n",
    "            d_x = point_2[0] - point_1[0]\n",
    "            d_y = point_2[1] - point_1[1]\n",
    "            for i in range(start, end):\n",
    "                new_1 = point_1[0] - (d_x * i), point_1[1] - (d_y * i)\n",
    "                new_2 = point_2[0] + (d_x * i), point_2[1] + (d_y * i)\n",
    "                for x, y in [new_1, new_2]:\n",
    "                    if (x >= 0 and x < len(antenna_array)) and (\n",
    "                        y >= 0 and y < len(antenna_array[0])\n",
    "                    ):\n",
    "                        antinode_map[x, y] = 1\n",
    "    return antinode_map\n",
    "\n",
    "\n",
    "antinode_map = draw_antinodes(antenna_array)\n",
    "print(f\"Part 1: {int(np.sum(antinode_map))}\")\n",
    "\n",
    "antinode_map = draw_antinodes(antenna_array, start=0, end=2000)\n",
    "print(f\"Part 2: {int(np.sum(antinode_map))}\")"
   ]
  }
 ],
 "metadata": {
  "kernelspec": {
   "display_name": "advent-of-code",
   "language": "python",
   "name": "python3"
  },
  "language_info": {
   "codemirror_mode": {
    "name": "ipython",
    "version": 3
   },
   "file_extension": ".py",
   "mimetype": "text/x-python",
   "name": "python",
   "nbconvert_exporter": "python",
   "pygments_lexer": "ipython3",
   "version": "3.12.1"
  }
 },
 "nbformat": 4,
 "nbformat_minor": 2
}
