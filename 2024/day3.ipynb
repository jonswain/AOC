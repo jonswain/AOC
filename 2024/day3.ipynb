{
 "cells": [
  {
   "cell_type": "code",
   "execution_count": null,
   "metadata": {},
   "outputs": [
    {
     "name": "stdout",
     "output_type": "stream",
     "text": [
      "Part 1: 173517243\n",
      "100450138\n"
     ]
    }
   ],
   "source": [
    "import re\n",
    "\n",
    "input_text = open(\"inputs/day3.txt\", \"r\").read()\n",
    "expression = r\"mul\\((\\d+),(\\d+)\\)\"\n",
    "print(\n",
    "    f\"Part 1: {sum([int(x) * int(y) for x, y in re.findall(expression, input_text)])}\"\n",
    ")\n",
    "\n",
    "expression = r\"(?:mul\\((\\d+),(\\d+)\\))|(?:(do(?:n't)?\\(\\)))\"\n",
    "add = True\n",
    "to_add = []\n",
    "for match in re.findall(expression, input_text):\n",
    "    if match[2] == \"don't()\":\n",
    "        add = False\n",
    "    elif match[2] == \"do()\":\n",
    "        add = True\n",
    "    if (add is True) and (match[2] == \"\"):\n",
    "        to_add.append(match)\n",
    "\n",
    "print(f\"Part 2: {sum([int(x) * int(y) for x, y, _ in to_add])}\")"
   ]
  },
  {
   "cell_type": "code",
   "execution_count": 79,
   "metadata": {},
   "outputs": [
    {
     "data": {
      "text/plain": [
       "100450138"
      ]
     },
     "execution_count": 79,
     "metadata": {},
     "output_type": "execute_result"
    }
   ],
   "source": [
    "add = True\n",
    "to_add = []\n",
    "for match in re.findall(expression, input_text):\n",
    "    if match[2] == \"don't()\":\n",
    "        add = False\n",
    "    elif match[2] == \"do()\":\n",
    "        add = True\n",
    "    if (add is True) and (match[2] == \"\"):\n",
    "        to_add.append(match)\n",
    "\n",
    "sum([int(x) * int(y) for x, y, _ in to_add])"
   ]
  },
  {
   "cell_type": "code",
   "execution_count": null,
   "metadata": {},
   "outputs": [],
   "source": []
  }
 ],
 "metadata": {
  "kernelspec": {
   "display_name": "advent-of-code",
   "language": "python",
   "name": "python3"
  },
  "language_info": {
   "codemirror_mode": {
    "name": "ipython",
    "version": 3
   },
   "file_extension": ".py",
   "mimetype": "text/x-python",
   "name": "python",
   "nbconvert_exporter": "python",
   "pygments_lexer": "ipython3",
   "version": "3.12.1"
  }
 },
 "nbformat": 4,
 "nbformat_minor": 2
}
