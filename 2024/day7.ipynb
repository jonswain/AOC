{
 "cells": [
  {
   "cell_type": "code",
   "execution_count": 2,
   "metadata": {},
   "outputs": [
    {
     "name": "stdout",
     "output_type": "stream",
     "text": [
      "Part 1: 1298103531759\n",
      "Part 2: 140575048428831\n"
     ]
    }
   ],
   "source": [
    "from itertools import product\n",
    "\n",
    "\n",
    "def calc_expression(expression: list, answer) -> int:\n",
    "    start = 0\n",
    "    operator = \"+\"\n",
    "    for pos in expression:\n",
    "        if pos in [\"+\", \"*\", \"|\"]:\n",
    "            operator = pos\n",
    "        else:\n",
    "            if operator == \"+\":\n",
    "                start += int(pos)\n",
    "            elif operator == \"*\":\n",
    "                start *= int(pos)\n",
    "            elif operator == \"|\":\n",
    "                start = int(str(start) + str(pos))\n",
    "        if start > int(answer):\n",
    "            return 0\n",
    "    return start\n",
    "\n",
    "\n",
    "def calculate_calibration_result(operators, equations):\n",
    "    to_sum = []\n",
    "    for answer, values in equations:\n",
    "        values = values.split()\n",
    "        operators_list = list(product(operators, repeat=len(values) - 1))\n",
    "        for operator in operators_list:\n",
    "            equ = list(list(zip(values, operator)))\n",
    "            equ = [item for sublist in equ for item in sublist]\n",
    "            equ += [values[-1]]\n",
    "\n",
    "            if calc_expression(equ, answer) == int(answer):\n",
    "                to_sum.append(int(answer))\n",
    "                break\n",
    "    return sum(to_sum)\n",
    "\n",
    "\n",
    "input_text = open(\"inputs/day7.txt\", \"r\").read()\n",
    "lines = input_text.split(\"\\n\")\n",
    "equations = [line.split(\": \") for line in lines]\n",
    "\n",
    "print(f\"Part 1: {calculate_calibration_result([\"+\", \"*\"], equations)}\")\n",
    "print(f\"Part 2: {calculate_calibration_result([\"+\", \"*\", \"|\"], equations)}\")"
   ]
  }
 ],
 "metadata": {
  "kernelspec": {
   "display_name": "advent-of-code",
   "language": "python",
   "name": "python3"
  },
  "language_info": {
   "codemirror_mode": {
    "name": "ipython",
    "version": 3
   },
   "file_extension": ".py",
   "mimetype": "text/x-python",
   "name": "python",
   "nbconvert_exporter": "python",
   "pygments_lexer": "ipython3",
   "version": "3.12.1"
  }
 },
 "nbformat": 4,
 "nbformat_minor": 2
}
