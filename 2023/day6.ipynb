{
 "cells": [
  {
   "cell_type": "code",
   "execution_count": 101,
   "metadata": {},
   "outputs": [
    {
     "name": "stdout",
     "output_type": "stream",
     "text": [
      "Part 1 Answer: 840336\n",
      "Part 2 Answer: 41382569\n"
     ]
    }
   ],
   "source": [
    "import re\n",
    "import math\n",
    "\n",
    "input_text = open('inputs/day6.txt', 'r').readlines()\n",
    "\n",
    "def process_input(text):\n",
    "    times = [int(x) for x in re.findall(r\"\\d+\", text[0])]\n",
    "    record = [int(x) for x in re.findall(r\"\\d+\", text[1])]\n",
    "    return list(zip(times, record))\n",
    "\n",
    "def calc_winning_times(time, record):\n",
    "    a = -1\n",
    "    b = time\n",
    "    c = -record\n",
    "    sol1 = (-b-math.sqrt((b**2) - (4*a*c)))/(2*a)\n",
    "    sol2 = (-b+math.sqrt((b**2) - (4*a*c)))/(2*a)\n",
    "    if math.floor(sol1) == sol1:\n",
    "        sol1 -= 1\n",
    "    return int(sol1) - int(sol2)\n",
    "\n",
    "def part_1(t_and_r):\n",
    "    winning_held_times = []\n",
    "    for time, record in t_and_r:\n",
    "        winning_held_times.append(calc_winning_times(time, record))\n",
    "    return math.prod(winning_held_times)\n",
    "\n",
    "def part_2_process(text):\n",
    "    time = int(\"\".join(re.findall(r\"\\d+\", text[0])))\n",
    "    record = int(\"\".join(re.findall(r\"\\d+\", text[1])))\n",
    "    return time, record\n",
    "\n",
    "print(f\"Part 1 Answer: {part_1(process_input(input_text))}\")\n",
    "print(f\"Part 2 Answer: {calc_winning_times(*part_2_process(input_text))}\")"
   ]
  }
 ],
 "metadata": {
  "kernelspec": {
   "display_name": "AoC_2023",
   "language": "python",
   "name": "python3"
  },
  "language_info": {
   "codemirror_mode": {
    "name": "ipython",
    "version": 3
   },
   "file_extension": ".py",
   "mimetype": "text/x-python",
   "name": "python",
   "nbconvert_exporter": "python",
   "pygments_lexer": "ipython3",
   "version": "3.12.0"
  }
 },
 "nbformat": 4,
 "nbformat_minor": 2
}
