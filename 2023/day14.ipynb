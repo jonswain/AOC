{
 "cells": [
  {
   "cell_type": "code",
   "execution_count": 150,
   "metadata": {},
   "outputs": [
    {
     "name": "stdout",
     "output_type": "stream",
     "text": [
      "Part 1 Answer: 109098\n",
      "Part 2 Answer: 100064\n"
     ]
    }
   ],
   "source": [
    "import numpy as np\n",
    "\n",
    "input_text = open('inputs/day14.txt', 'r').readlines()\n",
    "input_text = [list(line.strip()) for line in input_text]\n",
    "input_arr = np.array(input_text)\n",
    "\n",
    "def tilt_arr(arr, direction=\"N\"):\n",
    "    arr = np.pad(arr, 1)\n",
    "    changes = True\n",
    "    while changes:\n",
    "        changes = False\n",
    "        for y in range(1, len(arr)-1):\n",
    "            for x in range(1, len(arr[0])-1):\n",
    "                if arr[y,x] == \"O\":\n",
    "                    if direction == \"N\":\n",
    "                        new_coords = (y-1,x)\n",
    "                    elif direction == \"E\":\n",
    "                        new_coords = (y,x+1)\n",
    "                    elif direction == \"S\":\n",
    "                        new_coords = (y+1,x)\n",
    "                    elif direction == \"W\":\n",
    "                        new_coords = (y,x-1)\n",
    "                    if arr[new_coords] == \".\":\n",
    "                        arr[y,x] = \".\"\n",
    "                        arr[new_coords] = \"O\"\n",
    "                        changes = True\n",
    "\n",
    "    return arr[1:-1, 1:-1]\n",
    "    \n",
    "def sum_weight(arr):\n",
    "    to_sum = []\n",
    "    for count, row in enumerate(arr):\n",
    "        to_sum.append((len(arr) - count) * np.char.count(row, \"O\").sum())\n",
    "        \n",
    "    return sum(to_sum)\n",
    "\n",
    "def run_cycle(arr):\n",
    "    for direction in [\"N\", \"W\", \"S\", \"E\"]:\n",
    "        arr = tilt_arr(arr, direction=direction)\n",
    "    return arr\n",
    "\n",
    "def spin_until_repeat(arr_in, max_cycles=100):\n",
    "    arrs = []\n",
    "    for i in range(max_cycles):\n",
    "        arr_in = run_cycle(arr_in)\n",
    "        for count, arr in enumerate(arrs):\n",
    "            if ((arr_in == arr).all()):\n",
    "                first_repeat = i\n",
    "                cycle_length = i - count\n",
    "                return arrs, first_repeat, cycle_length\n",
    "        arrs.append(arr_in)\n",
    "\n",
    "def find_array_at_spin(arr, cycles):\n",
    "    arrs, first_repeat, cycle_length = spin_until_repeat(arr)\n",
    "    return arrs[((cycles - first_repeat) % cycle_length) + first_repeat - cycle_length - 1]\n",
    "\n",
    "print(f\"Part 1 Answer: {sum_weight(tilt_arr(input_arr))}\")\n",
    "print(f\"Part 2 Answer: {sum_weight(find_array_at_spin(input_arr, 1000000000))}\")"
   ]
  },
  {
   "cell_type": "code",
   "execution_count": null,
   "metadata": {},
   "outputs": [],
   "source": []
  }
 ],
 "metadata": {
  "kernelspec": {
   "display_name": "AoC_2023",
   "language": "python",
   "name": "python3"
  },
  "language_info": {
   "codemirror_mode": {
    "name": "ipython",
    "version": 3
   },
   "file_extension": ".py",
   "mimetype": "text/x-python",
   "name": "python",
   "nbconvert_exporter": "python",
   "pygments_lexer": "ipython3",
   "version": "3.12.0"
  }
 },
 "nbformat": 4,
 "nbformat_minor": 2
}
