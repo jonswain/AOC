{
 "cells": [
  {
   "cell_type": "code",
   "execution_count": 277,
   "metadata": {},
   "outputs": [],
   "source": [
    "from collections import Counter\n",
    "import re\n",
    "import math\n",
    "\n",
    "input_text = open('inputs/day3.txt', 'r').read().strip().split(\"\\n\")"
   ]
  },
  {
   "cell_type": "code",
   "execution_count": 284,
   "metadata": {},
   "outputs": [
    {
     "name": "stdout",
     "output_type": "stream",
     "text": [
      "Part 1 Answer: 532445\n"
     ]
    }
   ],
   "source": [
    "# Find all symbols\n",
    "symbol_coords = []\n",
    "for y, row in enumerate(input_text):\n",
    "    for x, char in enumerate(row):\n",
    "        if char != \".\" and not char.isdigit():\n",
    "            symbol_coords.append((x,y))\n",
    "\n",
    "# Find all numbers\n",
    "numbers = []\n",
    "for count, row in enumerate(input_text):\n",
    "    for match in re.finditer(r\"\\d+\", row):\n",
    "        numbers.append((\n",
    "            count,\n",
    "            match.start(),\n",
    "            match.end(),\n",
    "            int(match.group(0))\n",
    "        ))\n",
    "\n",
    "# Check for number adjascent symbol\n",
    "to_sum = []\n",
    "for y, start, end, value in numbers:\n",
    "    for x in range(start, end):\n",
    "        for x_new, y_new in [\n",
    "                (x-1, y-1),\n",
    "                (x-1, y),\n",
    "                (x-1, y+1),\n",
    "                (x, y-1),\n",
    "                (x, y+1),\n",
    "                (x+1, y-1),\n",
    "                (x+1, y),\n",
    "                (x+1, y+1),\n",
    "                ]:\n",
    "                try:\n",
    "                    if (x_new, y_new)in symbol_coords:\n",
    "                        to_sum.append((start, y, value))\n",
    "                except:\n",
    "                    pass\n",
    "\n",
    "print(f\"Part 1 Answer: {sum([value for _, _, value in set(to_sum)])}\")"
   ]
  },
  {
   "cell_type": "code",
   "execution_count": 286,
   "metadata": {},
   "outputs": [
    {
     "name": "stdout",
     "output_type": "stream",
     "text": [
      "Part 2 Answer: 79842967\n"
     ]
    }
   ],
   "source": [
    "# Find all *\n",
    "gears = []\n",
    "for y, start, end, value in numbers:\n",
    "    for x in range(start, end):\n",
    "        for x_new, y_new in [\n",
    "                (x-1, y-1),\n",
    "                (x-1, y),\n",
    "                (x-1, y+1),\n",
    "                (x, y-1),\n",
    "                (x, y+1),\n",
    "                (x+1, y-1),\n",
    "                (x+1, y),\n",
    "                (x+1, y+1),\n",
    "                ]:\n",
    "                try:\n",
    "                    if (input_text[y_new][x_new]) == \"*\":\n",
    "                        gears.append((y, start, value, x_new, y_new))\n",
    "                except:\n",
    "                    pass\n",
    "\n",
    "# Find all * with two numbers\n",
    "gear_coords = []\n",
    "for x in Counter([(x_gear, y_gear) for _, _, _, x_gear, y_gear in set(gears)]).items():\n",
    "    if x[1] == 2:\n",
    "        gear_coords.append(x[0])\n",
    "\n",
    "\n",
    "gear_dict = {}\n",
    "for gear in set(gears):\n",
    "    if (gear[3], gear[4]) in gear_coords:\n",
    "        try:\n",
    "            gear_dict[(gear[3], gear[4])].append(gear[2])\n",
    "        except:\n",
    "            gear_dict[(gear[3], gear[4])] = []\n",
    "            gear_dict[(gear[3], gear[4])].append(gear[2])\n",
    "\n",
    "to_sum = [math.prod(values) for _, values in gear_dict.items()]\n",
    "\n",
    "print(f\"Part 2 Answer: {sum(to_sum)}\")"
   ]
  },
  {
   "cell_type": "code",
   "execution_count": null,
   "metadata": {},
   "outputs": [],
   "source": []
  }
 ],
 "metadata": {
  "kernelspec": {
   "display_name": "AoC_2023",
   "language": "python",
   "name": "python3"
  },
  "language_info": {
   "codemirror_mode": {
    "name": "ipython",
    "version": 3
   },
   "file_extension": ".py",
   "mimetype": "text/x-python",
   "name": "python",
   "nbconvert_exporter": "python",
   "pygments_lexer": "ipython3",
   "version": "3.12.0"
  }
 },
 "nbformat": 4,
 "nbformat_minor": 2
}
