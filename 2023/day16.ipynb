{
 "cells": [
  {
   "cell_type": "code",
   "execution_count": 41,
   "metadata": {},
   "outputs": [],
   "source": [
    "import numpy as np\n",
    "from collections import defaultdict\n",
    "import sys\n",
    "sys.setrecursionlimit(10000)\n",
    "\n",
    "input_text = open('inputs/day16.txt', 'r').readlines()"
   ]
  },
  {
   "cell_type": "code",
   "execution_count": 42,
   "metadata": {},
   "outputs": [
    {
     "name": "stdout",
     "output_type": "stream",
     "text": [
      "Part 1 Answer: 7472\n"
     ]
    }
   ],
   "source": [
    "def set_up_arr():\n",
    "    input_arr = np.array([list(line.strip()) for line in input_text])\n",
    "    input_arr = np.pad(input_arr, 1)\n",
    "    return input_arr\n",
    "\n",
    "def follow_path(start, direction, arr, visit_dict):\n",
    "    visit_dict[start].append(direction)\n",
    "    if direction == \"D\":\n",
    "        next_position = (start[0] + 1, start[1])\n",
    "    elif direction == \"L\":\n",
    "        next_position = (start[0], start[1] - 1)\n",
    "    elif direction == \"U\":\n",
    "        next_position = (start[0] - 1, start[1])\n",
    "    elif direction == \"R\":\n",
    "        next_position = (start[0], start[1] + 1)\n",
    "\n",
    "    if arr[next_position] == \"0\":\n",
    "        return visit_dict\n",
    "    \n",
    "    if arr[next_position] in [\"#\", \".\"]:\n",
    "        if direction in visited[next_position]:\n",
    "            return visit_dict\n",
    "        visit_dict = follow_path(next_position, direction, arr, visit_dict)\n",
    "\n",
    "    elif arr[next_position] == \"\\\\\":\n",
    "        if direction == \"R\":\n",
    "            visit_dict = follow_path(next_position, \"D\", arr, visit_dict)\n",
    "        elif direction == \"D\":\n",
    "            visit_dict = follow_path(next_position, \"R\", arr, visit_dict)\n",
    "        elif direction == \"L\":\n",
    "            visit_dict = follow_path(next_position, \"U\", arr, visit_dict)\n",
    "        elif direction == \"U\":\n",
    "            visit_dict = follow_path(next_position, \"L\", arr, visit_dict)\n",
    "\n",
    "    elif arr[next_position] == \"/\":\n",
    "        if direction == \"R\":\n",
    "            visit_dict = follow_path(next_position, \"U\", arr, visit_dict)\n",
    "        elif direction == \"U\":\n",
    "            visit_dict = follow_path(next_position, \"R\", arr, visit_dict)\n",
    "        elif direction == \"L\":\n",
    "            visit_dict = follow_path(next_position, \"D\", arr, visit_dict)\n",
    "        elif direction == \"D\":\n",
    "            visit_dict = follow_path(next_position, \"L\", arr, visit_dict)\n",
    "\n",
    "    elif arr[next_position] == \"|\":\n",
    "        if direction == \"R\":\n",
    "            visit_dict = follow_path(next_position, \"U\", arr, visit_dict)\n",
    "            visit_dict = follow_path(next_position, \"D\", arr, visit_dict)\n",
    "        elif direction == \"U\":\n",
    "            visit_dict = follow_path(next_position, direction, arr, visit_dict)\n",
    "        elif direction == \"L\":\n",
    "            visit_dict = follow_path(next_position, \"D\", arr, visit_dict)\n",
    "            visit_dict = follow_path(next_position, \"U\", arr, visit_dict)\n",
    "        elif direction == \"D\":\n",
    "            visit_dict = follow_path(next_position, direction, arr, visit_dict)\n",
    "\n",
    "    elif arr[next_position] == \"-\":\n",
    "        if direction == \"U\":\n",
    "            visit_dict = follow_path(next_position, \"L\", arr, visit_dict)\n",
    "            visit_dict = follow_path(next_position, \"R\", arr, visit_dict)\n",
    "        elif direction == \"L\":\n",
    "            visit_dict = follow_path(next_position, direction, arr, visit_dict)\n",
    "        elif direction == \"D\":\n",
    "            visit_dict = follow_path(next_position, \"L\", arr, visit_dict)\n",
    "            visit_dict = follow_path(next_position, \"R\", arr, visit_dict)\n",
    "        elif direction == \"R\":\n",
    "            visit_dict = follow_path(next_position, direction, arr, visit_dict)\n",
    "\n",
    "    return visit_dict\n",
    "\n",
    "visited = defaultdict(list)\n",
    "visited = follow_path((1,0), \"R\", set_up_arr(), visited)\n",
    "print(f\"Part 1 Answer: {len(visited.keys())-1}\")"
   ]
  },
  {
   "cell_type": "code",
   "execution_count": 43,
   "metadata": {},
   "outputs": [
    {
     "name": "stdout",
     "output_type": "stream",
     "text": [
      "Part 2 Anwswer: 7716\n"
     ]
    }
   ],
   "source": [
    "values = []\n",
    "for i in range(len(input_text[0])):\n",
    "    for direction in [\"D\"]:\n",
    "        visited = defaultdict(list)\n",
    "        start = (0, i)\n",
    "        visit_dict = follow_path(start, direction, set_up_arr(), visited)\n",
    "        values.append(len(visit_dict.keys())-1)\n",
    "for i in range(len(input_text[0])):\n",
    "    for direction in [\"U\"]:\n",
    "        visited = defaultdict(list)\n",
    "        start = (-1, i)\n",
    "        visit_dict = follow_path(start, direction, set_up_arr(), visited)\n",
    "        values.append(len(visit_dict.keys())-1)\n",
    "for i in range(len(input_text)):\n",
    "    for direction in [\"L\"]:\n",
    "        visited = defaultdict(list)\n",
    "        start = (i, -1)\n",
    "        visit_dict = follow_path(start, direction, set_up_arr(), visited)\n",
    "        values.append(len(visit_dict.keys())-1)\n",
    "for i in range(len(input_text)):\n",
    "    for direction in [\"R\"]:\n",
    "        visited = defaultdict(list)\n",
    "        start = (i, 0)\n",
    "        visit_dict = follow_path(start, direction, set_up_arr(), visited)\n",
    "        values.append(len(visit_dict.keys())-1)\n",
    "\n",
    "print(f\"Part 2 Anwswer: {max(values)}\")"
   ]
  },
  {
   "cell_type": "code",
   "execution_count": null,
   "metadata": {},
   "outputs": [],
   "source": []
  }
 ],
 "metadata": {
  "kernelspec": {
   "display_name": "AoC_2023",
   "language": "python",
   "name": "python3"
  },
  "language_info": {
   "codemirror_mode": {
    "name": "ipython",
    "version": 3
   },
   "file_extension": ".py",
   "mimetype": "text/x-python",
   "name": "python",
   "nbconvert_exporter": "python",
   "pygments_lexer": "ipython3",
   "version": "3.12.0"
  }
 },
 "nbformat": 4,
 "nbformat_minor": 2
}
