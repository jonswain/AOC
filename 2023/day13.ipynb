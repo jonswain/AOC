{
 "cells": [
  {
   "cell_type": "code",
   "execution_count": 140,
   "metadata": {},
   "outputs": [
    {
     "name": "stdout",
     "output_type": "stream",
     "text": [
      "Part 1 Answer: 27300\n",
      "Part 2 Answer: 29276\n"
     ]
    }
   ],
   "source": [
    "import numpy as np\n",
    "\n",
    "input_text = open('inputs/day13.txt', 'r').read()\n",
    "input_text = [patt.split(\"\\n\") for patt in input_text.split(\"\\n\\n\")]\n",
    "input_arrs = [np.array([list(line) for line in patt]) for patt in input_text]\n",
    "\n",
    "def find_line(arr , errors=0):\n",
    "    for i in range(len(arr)-1):\n",
    "        bottom = arr[i+1:2*(i+1)][::-1]\n",
    "        top = arr[:i+1][-len(bottom):]\n",
    "        area = top.shape[0] * top.shape[1]\n",
    "        matches = (top == bottom).sum()\n",
    "        if (matches + errors) == area:\n",
    "            return i+1\n",
    "\n",
    "def sum_values(arrs, part=1):\n",
    "    verts = []\n",
    "    horiz = []\n",
    "    for arr in arrs:\n",
    "        horiz.append(find_line(arr, errors=part-1))\n",
    "        verts.append(find_line(arr.T, errors=part-1))\n",
    "    return sum([x for x in horiz if x]) * 100 + sum([x for x in verts if x])\n",
    "\n",
    "print(f\"Part 1 Answer: {sum_values(input_arrs, part=1)}\")\n",
    "print(f\"Part 2 Answer: {sum_values(input_arrs, part=2)}\")"
   ]
  },
  {
   "cell_type": "code",
   "execution_count": null,
   "metadata": {},
   "outputs": [],
   "source": []
  }
 ],
 "metadata": {
  "kernelspec": {
   "display_name": "AoC_2023",
   "language": "python",
   "name": "python3"
  },
  "language_info": {
   "codemirror_mode": {
    "name": "ipython",
    "version": 3
   },
   "file_extension": ".py",
   "mimetype": "text/x-python",
   "name": "python",
   "nbconvert_exporter": "python",
   "pygments_lexer": "ipython3",
   "version": "3.12.0"
  }
 },
 "nbformat": 4,
 "nbformat_minor": 2
}
