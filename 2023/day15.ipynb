{
 "cells": [
  {
   "cell_type": "code",
   "execution_count": 11,
   "metadata": {},
   "outputs": [
    {
     "name": "stdout",
     "output_type": "stream",
     "text": [
      "Part 1 Answer: 510792\n",
      "Part 2 Answer: 269410\n"
     ]
    }
   ],
   "source": [
    "from collections import defaultdict\n",
    "\n",
    "input_text = open('inputs/day15.txt', 'r').read().split(\",\")\n",
    "\n",
    "def hash_function(text):\n",
    "    current_val = 0\n",
    "    for char in text:\n",
    "        current_val = ((current_val + ord(char))*17) % 256\n",
    "    return current_val\n",
    "\n",
    "def sum_steps(text_list):\n",
    "    return sum([hash_function(text) for text in text_list])\n",
    "\n",
    "def fill_boxes(text):\n",
    "    boxes = defaultdict(dict)\n",
    "    for text in input_text:\n",
    "        if \"=\" in text:\n",
    "            box = hash_function(text.split(\"=\")[0])\n",
    "            boxes[box][text.split(\"=\")[0]] = int(text.split(\"=\")[1])\n",
    "        elif text[-1] == \"-\":\n",
    "            box = hash_function(text[:-1])\n",
    "            try:\n",
    "                del boxes[box][text[:-1]]\n",
    "            except KeyError:\n",
    "                pass\n",
    "    return boxes\n",
    "\n",
    "def focusing_power(boxes):\n",
    "    total = []\n",
    "    for box in boxes:\n",
    "        for count, lens in enumerate(boxes[box]):\n",
    "            total.append((box + 1) * boxes[box][lens] * (count + 1))\n",
    "    return sum(total)\n",
    "\n",
    "print(f\"Part 1 Answer: {sum_steps(input_text)}\")\n",
    "print(f\"Part 2 Answer: {focusing_power(fill_boxes(input_text))}\")"
   ]
  },
  {
   "cell_type": "code",
   "execution_count": null,
   "metadata": {},
   "outputs": [],
   "source": []
  }
 ],
 "metadata": {
  "kernelspec": {
   "display_name": "AoC_2023",
   "language": "python",
   "name": "python3"
  },
  "language_info": {
   "codemirror_mode": {
    "name": "ipython",
    "version": 3
   },
   "file_extension": ".py",
   "mimetype": "text/x-python",
   "name": "python",
   "nbconvert_exporter": "python",
   "pygments_lexer": "ipython3",
   "version": "3.12.0"
  }
 },
 "nbformat": 4,
 "nbformat_minor": 2
}
