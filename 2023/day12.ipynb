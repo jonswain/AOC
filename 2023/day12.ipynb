{
 "cells": [
  {
   "cell_type": "code",
   "execution_count": 5,
   "metadata": {},
   "outputs": [
    {
     "name": "stdout",
     "output_type": "stream",
     "text": [
      "Part 1 Answer: 8180\n"
     ]
    }
   ],
   "source": [
    "import re\n",
    "import itertools\n",
    "\n",
    "input_text = open('inputs/day12.txt', 'r').readlines()\n",
    "input_text = [line.strip().split() for line in input_text]\n",
    "input_text = [(line, [int(x) for x in numbers.split(\",\")]) for line, numbers in input_text]\n",
    "\n",
    "def possible_sequence(sequence, reg_exp):\n",
    "    sequence = sequence + \".\"\n",
    "    match = re.findall(reg_exp, sequence)\n",
    "    return len(match)\n",
    "\n",
    "def generate_possibilities(sequence):\n",
    "    sequences = []\n",
    "    for combination in (itertools.product(\"#.\", repeat=sequence.count(\"?\"))):\n",
    "        sequence_list = list(sequence)\n",
    "        count = 0\n",
    "        for idx, char in enumerate(sequence_list):\n",
    "            if char == \"?\":\n",
    "                sequence_list[idx] = combination[count]\n",
    "                count += 1\n",
    "        sequences.append(\"\".join(sequence_list))\n",
    "    return sequences\n",
    "\n",
    "def sum_possibilities(text, part=1):\n",
    "    to_sum = []\n",
    "    for line, numbers in text:\n",
    "        # Work out regex to search for\n",
    "        reg_str = \"\"\n",
    "        for num in numbers:\n",
    "            reg_str += (\"#\" * num) + \".+\"\n",
    "        reg_exp = re.compile(reg_str)\n",
    "        \n",
    "        # Check if appears in all possibilities of sequence\n",
    "        possible_count = 0\n",
    "        for pos_seq in generate_possibilities(line):\n",
    "            if pos_seq.count(\"#\") == sum(numbers):\n",
    "                possibilities = possible_sequence(pos_seq, reg_exp)\n",
    "                if (possibilities > 0) and (part == 1):\n",
    "                    possible_count += 1\n",
    "        to_sum.append(possible_count)\n",
    "    return sum(to_sum)\n",
    "\n",
    "def unfold_text(text):\n",
    "    lines = []\n",
    "    numbers_list = []\n",
    "    for line, numbers in text:\n",
    "        line = (line + \"?\") * 5\n",
    "        numbers = numbers * 5\n",
    "        lines.append(line[:-1])\n",
    "        numbers_list.append(numbers)\n",
    "    \n",
    "    return list(zip(lines, numbers_list))\n",
    "\n",
    "print(f\"Part 1 Answer: {sum_possibilities(input_text)}\")   \n",
    "# print(f\"Part 2 Answer: {sum_possibilities(unfold_text(input_text))}\")   \n"
   ]
  },
  {
   "cell_type": "code",
   "execution_count": null,
   "metadata": {},
   "outputs": [],
   "source": []
  }
 ],
 "metadata": {
  "kernelspec": {
   "display_name": "AoC_2023",
   "language": "python",
   "name": "python3"
  },
  "language_info": {
   "codemirror_mode": {
    "name": "ipython",
    "version": 3
   },
   "file_extension": ".py",
   "mimetype": "text/x-python",
   "name": "python",
   "nbconvert_exporter": "python",
   "pygments_lexer": "ipython3",
   "version": "3.12.0"
  }
 },
 "nbformat": 4,
 "nbformat_minor": 2
}
