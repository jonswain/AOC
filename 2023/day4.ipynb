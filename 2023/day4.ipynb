{
 "cells": [
  {
   "cell_type": "code",
   "execution_count": 147,
   "metadata": {},
   "outputs": [
    {
     "name": "stdout",
     "output_type": "stream",
     "text": [
      "Part 1 Answer: 26443\n",
      "Part 2 Answer: 6284877\n"
     ]
    }
   ],
   "source": [
    "input_text = open('inputs/day4.txt', 'r').readlines()\n",
    "\n",
    "def process_input(text):\n",
    "    lines = [line.split(\"|\") for line in [line.split(\":\")[1] for line in text]]\n",
    "    lines = [\n",
    "        ([int(x) for x in cards.split()], [int(x) for x in winners.split()]) \n",
    "        for cards, winners in lines\n",
    "        ]\n",
    "    return lines\n",
    "\n",
    "def check_winners(card, winning_nos):\n",
    "    if len(set(card).intersection(winning_nos)) == 0:\n",
    "        return 0\n",
    "    else:\n",
    "        return 2**(len(set(card).intersection(winning_nos))-1)\n",
    "\n",
    "def sum_winners(c_and_w):\n",
    "    return sum([check_winners(card, winning_nos) for card, winning_nos in c_and_w])\n",
    "\n",
    "def new_cards(c_and_w):\n",
    "    c_and_w = process_input(input_text)\n",
    "    copies = [1] * len(c_and_w)\n",
    "    for count, (card, winning_nos) in enumerate(c_and_w):\n",
    "        next_cards = len(set(card).intersection(winning_nos))\n",
    "        for pos in range(count+1, count+next_cards+1):\n",
    "            copies[pos] = copies[pos] + copies[count] \n",
    "    return sum(copies)\n",
    "    \n",
    "print(f\"Part 1 Answer: {sum_winners(process_input(input_text))}\")\n",
    "print(f\"Part 2 Answer: {new_cards(process_input(input_text))}\")"
   ]
  },
  {
   "cell_type": "code",
   "execution_count": null,
   "metadata": {},
   "outputs": [],
   "source": []
  }
 ],
 "metadata": {
  "kernelspec": {
   "display_name": "AoC_2023",
   "language": "python",
   "name": "python3"
  },
  "language_info": {
   "codemirror_mode": {
    "name": "ipython",
    "version": 3
   },
   "file_extension": ".py",
   "mimetype": "text/x-python",
   "name": "python",
   "nbconvert_exporter": "python",
   "pygments_lexer": "ipython3",
   "version": "3.12.0"
  }
 },
 "nbformat": 4,
 "nbformat_minor": 2
}
