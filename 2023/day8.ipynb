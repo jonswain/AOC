{
 "cells": [
  {
   "cell_type": "code",
   "execution_count": 131,
   "metadata": {},
   "outputs": [
    {
     "name": "stdout",
     "output_type": "stream",
     "text": [
      "Part 1 Answer: 12643\n",
      "Part 2 Answer: 13133452426987\n"
     ]
    }
   ],
   "source": [
    "import re\n",
    "import math\n",
    "\n",
    "input_text = open('inputs/day8.txt', 'r').readlines()\n",
    "\n",
    "def process_input(text):\n",
    "    directions = text[0].strip() * 100\n",
    "    map_dict = {}\n",
    "    for location in input_text[2:]:\n",
    "        extracted = re.findall(r\"[a-zA-Z]+\", location)\n",
    "        map_dict[extracted[0]] = (extracted[1], extracted[2])\n",
    "    return directions, map_dict\n",
    "\n",
    "def follow_instructions(start, end, part=1):\n",
    "    current_location = start\n",
    "    for count, direction in enumerate(directions):\n",
    "        current_location = map_dict[current_location][1 if direction=='R' else 0]\n",
    "        if (((current_location == end) and (part == 1)) or \n",
    "        ((current_location[2] == end) and (part == 2))):\n",
    "            return count + 1\n",
    "\n",
    "directions, map_dict = process_input(input_text)\n",
    "start_points = [loc for loc in list(map_dict.keys()) if loc.endswith(\"A\")]    \n",
    "cycles = []\n",
    "for start in start_points:\n",
    "    cycles.append(follow_instructions(start, \"Z\", 2))\n",
    "\n",
    "print(f\"Part 1 Answer: {follow_instructions(\"AAA\", \"ZZZ\")}\")\n",
    "print(f\"Part 2 Answer: {math.lcm(*cycles)}\")"
   ]
  },
  {
   "cell_type": "code",
   "execution_count": null,
   "metadata": {},
   "outputs": [],
   "source": []
  }
 ],
 "metadata": {
  "kernelspec": {
   "display_name": "AoC_2023",
   "language": "python",
   "name": "python3"
  },
  "language_info": {
   "codemirror_mode": {
    "name": "ipython",
    "version": 3
   },
   "file_extension": ".py",
   "mimetype": "text/x-python",
   "name": "python",
   "nbconvert_exporter": "python",
   "pygments_lexer": "ipython3",
   "version": "3.12.0"
  }
 },
 "nbformat": 4,
 "nbformat_minor": 2
}
