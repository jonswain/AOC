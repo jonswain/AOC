{
 "cells": [
  {
   "cell_type": "code",
   "execution_count": 14,
   "metadata": {},
   "outputs": [],
   "source": [
    "from collections import defaultdict\n",
    "import numpy as np\n",
    "\n",
    "input_text = \"\"\"2413432311323\n",
    "3215453535623\n",
    "3255245654254\n",
    "3446585845452\n",
    "4546657867536\n",
    "1438598798454\n",
    "4457876987766\n",
    "3637877979653\n",
    "4654967986887\n",
    "4564679986453\n",
    "1224686865563\n",
    "2546548887735\n",
    "4322674655533\"\"\".split(\"\\n\")\n",
    "input_text = [list(line.strip()) for line in input_text]\n",
    "input_arr = np.array(input_text).astype(int)"
   ]
  },
  {
   "cell_type": "code",
   "execution_count": 16,
   "metadata": {},
   "outputs": [
    {
     "ename": "KeyboardInterrupt",
     "evalue": "",
     "output_type": "error",
     "traceback": [
      "\u001b[0;31m---------------------------------------------------------------------------\u001b[0m",
      "\u001b[0;31mKeyboardInterrupt\u001b[0m                         Traceback (most recent call last)",
      "Cell \u001b[0;32mIn[16], line 19\u001b[0m\n\u001b[1;32m     12\u001b[0m     possible_next \u001b[38;5;241m=\u001b[39m [\n\u001b[1;32m     13\u001b[0m         (y\u001b[38;5;241m+\u001b[39m\u001b[38;5;241m1\u001b[39m, x),\n\u001b[1;32m     14\u001b[0m         (y\u001b[38;5;241m-\u001b[39m\u001b[38;5;241m1\u001b[39m, x),\n\u001b[1;32m     15\u001b[0m         (y, x\u001b[38;5;241m+\u001b[39m\u001b[38;5;241m1\u001b[39m),\n\u001b[1;32m     16\u001b[0m         (y, x\u001b[38;5;241m-\u001b[39m\u001b[38;5;241m1\u001b[39m),\n\u001b[1;32m     17\u001b[0m     ]\n\u001b[1;32m     18\u001b[0m     \u001b[38;5;28;01mfor\u001b[39;00m node \u001b[38;5;129;01min\u001b[39;00m possible_next:\n\u001b[0;32m---> 19\u001b[0m         \u001b[43minput_arr\u001b[49m\u001b[43m[\u001b[49m\u001b[43mpossible_next\u001b[49m\u001b[43m]\u001b[49m\n\u001b[1;32m     22\u001b[0m input_arr\n",
      "\u001b[0;31mKeyboardInterrupt\u001b[0m: "
     ]
    }
   ],
   "source": [
    "start = (0, 0)\n",
    "end = (input_arr.shape)\n",
    "\n",
    "visited = defaultdict(int)\n",
    "total = 0\n",
    "straight = 0\n",
    "direction = None\n",
    "\n",
    "current_node = start\n",
    "while current_node != end:\n",
    "    y, x = current_node\n",
    "    possible_next = [\n",
    "        (y+1, x),\n",
    "        (y-1, x),\n",
    "        (y, x+1),\n",
    "        (y, x-1),\n",
    "    ]\n",
    "    for node in possible_next:\n",
    "        input_arr[possible_next]\n",
    "\n",
    "\n",
    "input_arr"
   ]
  },
  {
   "cell_type": "code",
   "execution_count": null,
   "metadata": {},
   "outputs": [],
   "source": []
  }
 ],
 "metadata": {
  "kernelspec": {
   "display_name": "AoC_2023",
   "language": "python",
   "name": "python3"
  },
  "language_info": {
   "codemirror_mode": {
    "name": "ipython",
    "version": 3
   },
   "file_extension": ".py",
   "mimetype": "text/x-python",
   "name": "python",
   "nbconvert_exporter": "python",
   "pygments_lexer": "ipython3",
   "version": "3.12.0"
  }
 },
 "nbformat": 4,
 "nbformat_minor": 2
}
