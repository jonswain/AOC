{
 "cells": [
  {
   "cell_type": "code",
   "execution_count": 65,
   "metadata": {},
   "outputs": [],
   "source": [
    "import math\n",
    "\n",
    "input_text = open('inputs/day2.txt', 'r').readlines()"
   ]
  },
  {
   "cell_type": "code",
   "execution_count": 66,
   "metadata": {},
   "outputs": [
    {
     "name": "stdout",
     "output_type": "stream",
     "text": [
      "Part 1 Answer: 2795\n"
     ]
    }
   ],
   "source": [
    "maxes = {\n",
    "    \"red\": 12,\n",
    "    \"green\": 13,\n",
    "    \"blue\": 14\n",
    "}\n",
    "\n",
    "possibles = []\n",
    "\n",
    "for count, game in enumerate(input_text):\n",
    "    possible = True\n",
    "    rounds = [round.strip() for round in game.split(\":\")[1].split(\";\")]\n",
    "    for round in rounds:\n",
    "        for balls in round.split(\",\"):\n",
    "            for colour in maxes:\n",
    "                if colour in balls:\n",
    "                    if int(balls.split()[0]) > maxes[colour]:\n",
    "                        possible=False\n",
    "\n",
    "    if possible:\n",
    "        possibles.append(count + 1)\n",
    "\n",
    "print(f\"Part 1 Answer: {sum(possibles)}\")"
   ]
  },
  {
   "cell_type": "code",
   "execution_count": 67,
   "metadata": {},
   "outputs": [
    {
     "name": "stdout",
     "output_type": "stream",
     "text": [
      "Part 2 Answer: 75561\n"
     ]
    }
   ],
   "source": [
    "powers = []\n",
    "\n",
    "for count, game in enumerate(input_text):\n",
    "    rounds = [round.strip() for round in game.split(\":\")[1].split(\";\")]\n",
    "    min_balls = { \n",
    "    \"red\": 0,\n",
    "    \"green\": 0,\n",
    "    \"blue\": 0\n",
    "    }\n",
    "    for round in rounds:\n",
    "        for balls in round.split(\",\"):\n",
    "            for colour in min_balls:\n",
    "                if colour in balls:\n",
    "                    if int(balls.split()[0]) > min_balls[colour]:\n",
    "                        min_balls[colour] = int(balls.split()[0])\n",
    "\n",
    "    powers.append(math.prod(list(min_balls.values())))\n",
    "\n",
    "print(f\"Part 2 Answer: {sum(powers)}\")"
   ]
  },
  {
   "cell_type": "code",
   "execution_count": null,
   "metadata": {},
   "outputs": [],
   "source": []
  }
 ],
 "metadata": {
  "kernelspec": {
   "display_name": "AoC_2023",
   "language": "python",
   "name": "python3"
  },
  "language_info": {
   "codemirror_mode": {
    "name": "ipython",
    "version": 3
   },
   "file_extension": ".py",
   "mimetype": "text/x-python",
   "name": "python",
   "nbconvert_exporter": "python",
   "pygments_lexer": "ipython3",
   "version": "3.12.0"
  }
 },
 "nbformat": 4,
 "nbformat_minor": 2
}
