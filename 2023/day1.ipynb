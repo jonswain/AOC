{
 "cells": [
  {
   "cell_type": "code",
   "execution_count": 4,
   "metadata": {},
   "outputs": [
    {
     "name": "stdout",
     "output_type": "stream",
     "text": [
      "Part 1 Answer: 54697\n",
      "Part 2 Answer: 54885\n"
     ]
    }
   ],
   "source": [
    "def calibration_values(text):\n",
    "    line_values = 0\n",
    "    for line in text.split(\"\\n\"):\n",
    "        digits = [char for char in list(line) if char.isdigit()]\n",
    "        line_values += int(str(digits[0]) + str(digits[-1]))\n",
    "    return line_values\n",
    "\n",
    "\n",
    "def text_to_int(text):\n",
    "    text = (\n",
    "        text.replace(\"one\", \"o1e\")\n",
    "        .replace(\"two\", \"t2o\")\n",
    "        .replace(\"three\", \"t3e\")\n",
    "        .replace(\"four\", \"f4r\")\n",
    "        .replace(\"five\", \"f5e\")\n",
    "        .replace(\"six\", \"s6x\")\n",
    "        .replace(\"seven\", \"s7n\")\n",
    "        .replace(\"eight\", \"e8t\")\n",
    "        .replace(\"nine\", \"n9e\")\n",
    "    )\n",
    "    return text\n",
    "\n",
    "\n",
    "input_text = open(\"inputs/day1.txt\", \"r\").read()\n",
    "print(f\"Part 1 Answer: {calibration_values(input_text)}\")\n",
    "print(f\"Part 2 Answer: {calibration_values(text_to_int(input_text))}\")"
   ]
  },
  {
   "cell_type": "code",
   "execution_count": null,
   "metadata": {},
   "outputs": [],
   "source": []
  }
 ],
 "metadata": {
  "kernelspec": {
   "display_name": "AoC_2023",
   "language": "python",
   "name": "python3"
  },
  "language_info": {
   "codemirror_mode": {
    "name": "ipython",
    "version": 3
   },
   "file_extension": ".py",
   "mimetype": "text/x-python",
   "name": "python",
   "nbconvert_exporter": "python",
   "pygments_lexer": "ipython3",
   "version": "3.12.0"
  }
 },
 "nbformat": 4,
 "nbformat_minor": 2
}
