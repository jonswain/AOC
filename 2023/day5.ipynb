{
 "cells": [
  {
   "cell_type": "code",
   "execution_count": 1,
   "metadata": {},
   "outputs": [
    {
     "name": "stdout",
     "output_type": "stream",
     "text": [
      "Part 1 Answer: 278755257\n",
      "Part 2 Answer: 26829166\n"
     ]
    }
   ],
   "source": [
    "input_text = open('inputs/day5.txt', 'r').read().split(\"\\n\\n\")\n",
    "\n",
    "def parse_input(text):\n",
    "    almanac = {}\n",
    "    for line in text[1:]:\n",
    "        values = line.split(\":\")[1].split()\n",
    "        values = [int(x) for x in values]\n",
    "        almanac[line.split(\":\")[0]] = [values[i:i + 3] for i in range(0, len(values), 3)]\n",
    "    seeds = [int(x) for x in input_text[0].split(\":\")[1].split()]\n",
    "    return seeds, almanac\n",
    "\n",
    "def find_locations(seeds, almanac):\n",
    "    final_values = []\n",
    "    for seed in seeds:\n",
    "        for mapping in almanac:\n",
    "            new_seed = None\n",
    "            for line in almanac[mapping]:\n",
    "                if (seed < line[1]+line[2]) and (seed >= line[1]):\n",
    "                    new_seed = seed - line[1] + line[0]\n",
    "            if new_seed:\n",
    "                seed = new_seed\n",
    "        final_values.append(seed)\n",
    "    return min(final_values)\n",
    "\n",
    "def p2_seeds_ranges(seeds):\n",
    "    p2_seeds = [seeds[i:i + 2] for i in range(0, len(seeds), 2)]\n",
    "    return [[start, start + range] for start, range in p2_seeds]\n",
    "\n",
    "def reverse_method(seed, almanac):\n",
    "    for mapping in list(almanac)[::-1]:\n",
    "        new_seed = None\n",
    "        for line in almanac[mapping]:\n",
    "            if (seed < line[0]+line[2]) and (seed >= line[0]):\n",
    "                new_seed = seed - line[0] + line[1]\n",
    "        if new_seed:\n",
    "            seed = new_seed\n",
    "    return seed\n",
    "\n",
    "def part_2(value, seeds, almanac):\n",
    "    seeds_ranges = p2_seeds_ranges(seeds)\n",
    "    for i in range(0, value+1):\n",
    "        seed = reverse_method(i, almanac)\n",
    "        for l_limit, u_limit in seeds_ranges:\n",
    "            if (seed < u_limit) and (seed >= l_limit):\n",
    "                return i\n",
    "\n",
    "seeds, almanac = parse_input(input_text)\n",
    "print(f\"Part 1 Answer: {find_locations(seeds, almanac)}\")\n",
    "print(f\"Part 2 Answer: {part_2(find_locations(seeds, almanac), seeds, almanac)}\")"
   ]
  },
  {
   "cell_type": "code",
   "execution_count": null,
   "metadata": {},
   "outputs": [],
   "source": []
  }
 ],
 "metadata": {
  "kernelspec": {
   "display_name": "AoC_2023",
   "language": "python",
   "name": "python3"
  },
  "language_info": {
   "codemirror_mode": {
    "name": "ipython",
    "version": 3
   },
   "file_extension": ".py",
   "mimetype": "text/x-python",
   "name": "python",
   "nbconvert_exporter": "python",
   "pygments_lexer": "ipython3",
   "version": "3.12.0"
  }
 },
 "nbformat": 4,
 "nbformat_minor": 2
}
