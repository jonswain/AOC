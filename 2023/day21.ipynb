{
 "cells": [
  {
   "cell_type": "code",
   "execution_count": 9,
   "metadata": {},
   "outputs": [
    {
     "name": "stdout",
     "output_type": "stream",
     "text": [
      "Part 1 Answer: 3770\n"
     ]
    }
   ],
   "source": [
    "import numpy as np\n",
    "from collections import deque\n",
    "import sympy\n",
    "\n",
    "\n",
    "def process_input(text):\n",
    "    arr = np.array([list(line.strip()) for line in text])\n",
    "    arr = np.char.replace(arr, \".\", \"0\")\n",
    "    arr = np.char.replace(arr, \"S\", \"1\")\n",
    "    arr = np.char.replace(arr, \"#\", \"2\")\n",
    "    arr = arr.astype(int)\n",
    "    return arr\n",
    "\n",
    "\n",
    "def check_adjascent(arr, y, x, steps):\n",
    "    next_steps = []\n",
    "    for ynew, xnew in [(y - 1, x), (y + 1, x), (y, x - 1), (y, x + 1)]:\n",
    "        if (\n",
    "            (xnew >= 0)\n",
    "            and (ynew >= 0)\n",
    "            and (xnew < arr.shape[1])\n",
    "            and (ynew < arr.shape[0])\n",
    "        ):\n",
    "            if arr[ynew, xnew] == 0:\n",
    "                next_steps.append(((ynew, xnew), steps + 1))\n",
    "            else:\n",
    "                pass\n",
    "    return next_steps\n",
    "\n",
    "\n",
    "def breadth_first_search(arr, max_steps):\n",
    "    idx = np.where(start_arr == 1)\n",
    "    start = (idx[0][0], idx[1][0])\n",
    "    steps = 0\n",
    "    explored = set()\n",
    "    explored.add((start, steps))\n",
    "    to_explore = deque()\n",
    "    to_explore.append((start, steps))\n",
    "\n",
    "    while True:\n",
    "        (y, x), step = to_explore.popleft()\n",
    "        if step > max_steps:\n",
    "            return explored\n",
    "        for (y, x), step in check_adjascent(arr, y, x, step):\n",
    "            if ((y, x), step) not in explored:\n",
    "                to_explore.append(((y, x), step))\n",
    "                explored.add(((y, x), step))\n",
    "\n",
    "\n",
    "def count_positions(arr, max_steps):\n",
    "    explored = breadth_first_search(arr, max_steps=max_steps)\n",
    "    if (max_steps % 2 != 0) or (max_steps == 0):\n",
    "        return sum([1 for _, step in explored if step == max_steps])\n",
    "    else:\n",
    "        return sum([1 for _, step in explored if step == max_steps]) + 1\n",
    "\n",
    "\n",
    "input_text = open(\"inputs/day21.txt\", \"r\").readlines()\n",
    "start_arr = process_input(input_text)\n",
    "print(f\"Part 1 Answer: {count_positions(start_arr, 64)}\")"
   ]
  },
  {
   "cell_type": "code",
   "execution_count": 10,
   "metadata": {},
   "outputs": [
    {
     "name": "stdout",
     "output_type": "stream",
     "text": [
      "Part 2 Answer: 155354742471942.6\n"
     ]
    }
   ],
   "source": [
    "def grow_arr(arr, no_times=1):\n",
    "    for _ in range(no_times):\n",
    "        arr = np.concatenate([arr, arr, arr])\n",
    "        arr = np.concatenate([arr, arr, arr], axis=1)\n",
    "    return arr\n",
    "\n",
    "\n",
    "start_arr = process_input(input_text)\n",
    "part_2_arr = grow_arr(start_arr, no_times=5)\n",
    "\n",
    "side_len = start_arr.shape[0]\n",
    "vals = []\n",
    "for i in range(3):\n",
    "    x = (i) * side_len\n",
    "    vals.append((x, count_positions(part_2_arr, x)))\n",
    "\n",
    "a, b, c = sympy.symbols(\"a b c\")\n",
    "solved = sympy.solve(\n",
    "    [\n",
    "        sympy.Eq(vals[2][0] ** 2 * a + vals[2][0] * b - c, vals[2][1]),\n",
    "        sympy.Eq(vals[1][0] ** 2 * a + vals[1][0] * b - c, vals[1][1]),\n",
    "        sympy.Eq(vals[0][0] ** 2 * a + vals[0][0] * b - c, vals[0][1]),\n",
    "    ]\n",
    ")\n",
    "\n",
    "x = 26501365\n",
    "\n",
    "answer = (solved[a] * (x**2)) + (solved[b] * x) + solved[c]\n",
    "# This is wrong :'(\n",
    "print(f\"Part 2 Answer: {float(answer) + 2}\")"
   ]
  },
  {
   "cell_type": "code",
   "execution_count": null,
   "metadata": {},
   "outputs": [],
   "source": []
  }
 ],
 "metadata": {
  "kernelspec": {
   "display_name": "AoC_2023",
   "language": "python",
   "name": "python3"
  },
  "language_info": {
   "codemirror_mode": {
    "name": "ipython",
    "version": 3
   },
   "file_extension": ".py",
   "mimetype": "text/x-python",
   "name": "python",
   "nbconvert_exporter": "python",
   "pygments_lexer": "ipython3",
   "version": "3.12.0"
  }
 },
 "nbformat": 4,
 "nbformat_minor": 2
}
