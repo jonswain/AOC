{
 "cells": [
  {
   "cell_type": "code",
   "execution_count": 173,
   "metadata": {},
   "outputs": [
    {
     "name": "stdout",
     "output_type": "stream",
     "text": [
      "Part 1 Answer: 11246\n",
      "Part 2 Answer: 716599937560103\n"
     ]
    }
   ],
   "source": [
    "from itertools import combinations\n",
    "import sympy\n",
    "\n",
    "\n",
    "def parse_input(input_text):\n",
    "    hailstones = []\n",
    "    for line in input_text:\n",
    "        pos, vel = line.split(\"@\")\n",
    "        hailstones.append(\n",
    "            {\n",
    "                \"position\": [int(x.strip()) for x in pos.split(\",\")],\n",
    "                \"velocity\": [int(x.strip()) for x in vel.split(\",\")],\n",
    "            }\n",
    "        )\n",
    "    return hailstones\n",
    "\n",
    "\n",
    "def part_1(hailstones, lower_limit=200000000000000, upper_limit=400000000000000):\n",
    "    within_limits = 0\n",
    "    for hail_a, hail_b in list(combinations(hailstones, 2)):\n",
    "        px1, py1, _ = hail_a[\"position\"]\n",
    "        px2, py2, _ = hail_b[\"position\"]\n",
    "        vx1, vy1, _ = hail_a[\"velocity\"]\n",
    "        vx2, vy2, _ = hail_b[\"velocity\"]\n",
    "        t1, t2 = sympy.symbols(\"t1 t2\")\n",
    "        solved = sympy.solve(\n",
    "            [\n",
    "                sympy.Eq(px1 + vx1 * t1, px2 + vx2 * t2),\n",
    "                sympy.Eq(py1 + vy1 * t1, py2 + vy2 * t2),\n",
    "            ]\n",
    "        )\n",
    "        if len(solved) == 2:\n",
    "            if (solved[t1] >= 0) and (solved[t2] >= 0):\n",
    "                t1 = solved[t1]\n",
    "                t2 = solved[t2]\n",
    "                x = float(px1 + vx1 * t1)\n",
    "                y = float(py1 + vy1 * t1)\n",
    "                if (lower_limit <= x <= upper_limit) and (\n",
    "                    lower_limit <= y <= upper_limit\n",
    "                ):\n",
    "                    within_limits += 1\n",
    "\n",
    "    return within_limits\n",
    "\n",
    "\n",
    "def part_2(hailstones):\n",
    "    h1, h2, h3 = hailstones[:3]\n",
    "    rpx, rpy, rpz, rvx, rvy, rvz, t1, t2, t3 = sympy.symbols(\n",
    "        \"rpx rpy rpz rvx rvy rvz t1 t2 t3\"\n",
    "    )\n",
    "    solved = sympy.solve(\n",
    "        [\n",
    "            sympy.Eq(rpx + rvx * t1, h1[\"position\"][0] + h1[\"velocity\"][0] * t1),\n",
    "            sympy.Eq(rpy + rvy * t1, h1[\"position\"][1] + h1[\"velocity\"][1] * t1),\n",
    "            sympy.Eq(rpz + rvz * t1, h1[\"position\"][2] + h1[\"velocity\"][2] * t1),\n",
    "            sympy.Eq(rpx + rvx * t2, h2[\"position\"][0] + h2[\"velocity\"][0] * t2),\n",
    "            sympy.Eq(rpy + rvy * t2, h2[\"position\"][1] + h2[\"velocity\"][1] * t2),\n",
    "            sympy.Eq(rpz + rvz * t2, h2[\"position\"][2] + h2[\"velocity\"][2] * t2),\n",
    "            sympy.Eq(rpx + rvx * t3, h3[\"position\"][0] + h3[\"velocity\"][0] * t3),\n",
    "            sympy.Eq(rpy + rvy * t3, h3[\"position\"][1] + h3[\"velocity\"][1] * t3),\n",
    "            sympy.Eq(rpz + rvz * t3, h3[\"position\"][2] + h3[\"velocity\"][2] * t3),\n",
    "        ]\n",
    "    )\n",
    "    return int(solved[0][rpx] + solved[0][rpy] + solved[0][rpz])\n",
    "\n",
    "\n",
    "input_text = [line.strip() for line in open(\"inputs/day24.txt\", \"r\").readlines()]\n",
    "hailstones = parse_input(input_text)\n",
    "print(f\"Part 1 Answer: {part_1(hailstones)}\")\n",
    "print(f\"Part 2 Answer: {part_2(hailstones)}\")"
   ]
  },
  {
   "cell_type": "code",
   "execution_count": null,
   "metadata": {},
   "outputs": [],
   "source": []
  }
 ],
 "metadata": {
  "kernelspec": {
   "display_name": "AoC_2023",
   "language": "python",
   "name": "python3"
  },
  "language_info": {
   "codemirror_mode": {
    "name": "ipython",
    "version": 3
   },
   "file_extension": ".py",
   "mimetype": "text/x-python",
   "name": "python",
   "nbconvert_exporter": "python",
   "pygments_lexer": "ipython3",
   "version": "3.12.0"
  }
 },
 "nbformat": 4,
 "nbformat_minor": 2
}
