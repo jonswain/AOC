{
 "cells": [
  {
   "cell_type": "code",
   "execution_count": 197,
   "metadata": {},
   "outputs": [
    {
     "name": "stdout",
     "output_type": "stream",
     "text": [
      "Part 1 Answer: 253910319\n",
      "Part 2 Answer: 254083736\n"
     ]
    }
   ],
   "source": [
    "from collections import Counter\n",
    "\n",
    "input_text = open('inputs/day7.txt', 'r').readlines()\n",
    "\n",
    "def sort_hand_types(text, jokers=False):\n",
    "    types = {\n",
    "        \"5kind\" : [],\n",
    "        \"4kind\" : [],\n",
    "        \"fullhouse\" : [],\n",
    "        \"3kind\" : [],\n",
    "        \"2pairs\" : [],\n",
    "        \"1pair\" : [],\n",
    "        \"highcard\" : []\n",
    "    }\n",
    "    \n",
    "    # Sort into types\n",
    "    for line in input_text:\n",
    "        hand, bid = line.split()\n",
    "        c = Counter(hand)\n",
    "        card_counts = (sorted(list(c.items()), key=lambda x: x[1], reverse=True))\n",
    "        \n",
    "        # Replace jokers to make best possible hand\n",
    "        if jokers:\n",
    "            if \"J\" in hand:\n",
    "                if card_counts[0][0] == \"J\":\n",
    "                    if len(card_counts) > 1:\n",
    "                        new_hand = hand.replace(\"J\", card_counts[1][0])\n",
    "                else:\n",
    "                    new_hand = hand.replace(\"J\", card_counts[0][0])\n",
    "                card_counts = (sorted(list(Counter(new_hand).items()), key=lambda x: x[1], reverse=True))\n",
    "        \n",
    "        if card_counts[0][1] == 5:\n",
    "            types[\"5kind\"].append((hand, bid))\n",
    "        elif card_counts[0][1] == 4:\n",
    "            types[\"4kind\"].append((hand, bid))\n",
    "        elif (card_counts[0][1] == 3) and (card_counts[1][1] == 2):\n",
    "            types[\"fullhouse\"].append((hand, bid))\n",
    "        elif (card_counts[0][1] == 3) and (card_counts[1][1] != 2):\n",
    "            types[\"3kind\"].append((hand, bid))\n",
    "        elif (card_counts[0][1] == 2) and (card_counts[1][1] == 2):\n",
    "            types[\"2pairs\"].append((hand, bid))\n",
    "        elif (card_counts[0][1] == 2) and (card_counts[1][1] != 2):\n",
    "            types[\"1pair\"].append((hand, bid))\n",
    "        else:\n",
    "            types[\"highcard\"].append((hand, bid))\n",
    "            \n",
    "    return types\n",
    "\n",
    "def rank_within_type(types, card_order):\n",
    "    for hand_type, hands in types.items():\n",
    "        types[hand_type] = sorted(types[hand_type], key=lambda x: [card_order.index(c) for c in x[0]])\n",
    "    return types\n",
    "\n",
    "def sum_winnings(types):    \n",
    "    count = 1\n",
    "    winnings = []\n",
    "    for hand_type in list(types)[::-1]:\n",
    "        for hand in types[hand_type]:\n",
    "            winnings.append((count * int(hand[1])))\n",
    "            count += 1\n",
    "    return sum(winnings)\n",
    "\n",
    "print(f\"Part 1 Answer: {sum_winnings(rank_within_type(sort_hand_types(input_text), \"23456789TJQKA\"))}\")\n",
    "print(f\"Part 2 Answer: {sum_winnings(rank_within_type(sort_hand_types(input_text, jokers=True), \"J23456789TQKA\"))}\")"
   ]
  },
  {
   "cell_type": "code",
   "execution_count": null,
   "metadata": {},
   "outputs": [],
   "source": []
  }
 ],
 "metadata": {
  "kernelspec": {
   "display_name": "AoC_2023",
   "language": "python",
   "name": "python3"
  },
  "language_info": {
   "codemirror_mode": {
    "name": "ipython",
    "version": 3
   },
   "file_extension": ".py",
   "mimetype": "text/x-python",
   "name": "python",
   "nbconvert_exporter": "python",
   "pygments_lexer": "ipython3",
   "version": "3.12.0"
  }
 },
 "nbformat": 4,
 "nbformat_minor": 2
}
