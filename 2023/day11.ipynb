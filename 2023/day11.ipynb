{
 "cells": [
  {
   "cell_type": "code",
   "execution_count": 121,
   "metadata": {},
   "outputs": [
    {
     "name": "stdout",
     "output_type": "stream",
     "text": [
      "Part 1 Answer: 9974721\n",
      "Part 2 Answer: 702770569197\n"
     ]
    }
   ],
   "source": [
    "import numpy as np\n",
    "from itertools import combinations\n",
    "\n",
    "input_text = open('inputs/day11.txt', 'r').readlines()\n",
    "input_text = [list(line.strip()) for line in input_text]\n",
    "\n",
    "def expand_array(text, expansion=1):\n",
    "    expanded = []\n",
    "    for row in text:\n",
    "        expanded.append(row)\n",
    "        if set(row) == set(\".\"):\n",
    "            for i in range(expansion):\n",
    "                expanded.append(row)\n",
    "\n",
    "    expanded_width = []\n",
    "    for i in range(len(expanded[0])):\n",
    "        col = [line[i] for line in expanded]\n",
    "        expanded_width.append(col)\n",
    "        if set(col) == set(\".\"):\n",
    "            for i in range(expansion):\n",
    "                expanded_width.append(col)\n",
    "    return np.array(expanded_width).T\n",
    "\n",
    "def find_galaxies(arr):\n",
    "    galaxies = []\n",
    "    for y in range(arr.shape[0]):\n",
    "        for x in range(arr.shape[1]):\n",
    "            if arr[y, x] == \"#\":\n",
    "                galaxies.append((x, y))\n",
    "    return galaxies\n",
    "\n",
    "def find_distance(coords_a, coords_b):\n",
    "    xa, ya = coords_a\n",
    "    xb, yb = coords_b\n",
    "    dist = abs(xa - xb) + abs(ya - yb)\n",
    "    return dist\n",
    "\n",
    "def sum_distances(galaxies):\n",
    "    distances = []\n",
    "    for g1, g2 in combinations(galaxies, 2):\n",
    "        distances.append(find_distance(g1, g2))\n",
    "    return sum(distances)\n",
    "\n",
    "def distances_at_expansion(expansion):\n",
    "    intercept = sum_distances(find_galaxies(expand_array(input_text, expansion=0)))\n",
    "    gradient = sum_distances(find_galaxies(expand_array(input_text, expansion=1))) - intercept\n",
    "    return (gradient * expansion) + intercept\n",
    "\n",
    "print(f\"Part 1 Answer: {sum_distances(find_galaxies(expand_array(input_text)))}\")\n",
    "print(f\"Part 2 Answer: {distances_at_expansion(999999)}\")"
   ]
  },
  {
   "cell_type": "code",
   "execution_count": null,
   "metadata": {},
   "outputs": [],
   "source": []
  }
 ],
 "metadata": {
  "kernelspec": {
   "display_name": "AoC_2023",
   "language": "python",
   "name": "python3"
  },
  "language_info": {
   "codemirror_mode": {
    "name": "ipython",
    "version": 3
   },
   "file_extension": ".py",
   "mimetype": "text/x-python",
   "name": "python",
   "nbconvert_exporter": "python",
   "pygments_lexer": "ipython3",
   "version": "3.12.0"
  }
 },
 "nbformat": 4,
 "nbformat_minor": 2
}
