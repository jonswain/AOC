{
 "cells": [
  {
   "cell_type": "code",
   "execution_count": 3,
   "metadata": {},
   "outputs": [],
   "source": [
    "input_text = [line.strip() for line in open(\"inputs/day23.txt\", \"r\").readlines()]\n",
    "# example_input = \"\"\"#.#####################\n",
    "# #.......#########...###\n",
    "# #######.#########.#.###\n",
    "# ###.....#.>.>.###.#.###\n",
    "# ###v#####.#v#.###.#.###\n",
    "# ###.>...#.#.#.....#...#\n",
    "# ###v###.#.#.#########.#\n",
    "# ###...#.#.#.......#...#\n",
    "# #####.#.#.#######.#.###\n",
    "# #.....#.#.#.......#...#\n",
    "# #.#####.#.#.#########v#\n",
    "# #.#...#...#...###...>.#\n",
    "# #.#.#v#######v###.###v#\n",
    "# #...#.>.#...>.>.#.###.#\n",
    "# #####v#.#.###v#.#.###.#\n",
    "# #.....#...#...#.#.#...#\n",
    "# #.#########.###.#.#.###\n",
    "# #...###...#...#...#.###\n",
    "# ###.###.#.###v#####v###\n",
    "# #...#...#.#.>.>.#.>.###\n",
    "# #.###.###.#.###.#.#v###\n",
    "# #.....###...###...#...#\n",
    "# #####################.#\"\"\".split(\n",
    "#     \"\\n\"\n",
    "# )"
   ]
  },
  {
   "cell_type": "code",
   "execution_count": 4,
   "metadata": {},
   "outputs": [
    {
     "name": "stdout",
     "output_type": "stream",
     "text": [
      "Part 1 Answer: 2206\n"
     ]
    }
   ],
   "source": [
    "import numpy as np\n",
    "import sys\n",
    "\n",
    "sys.setrecursionlimit(100000)\n",
    "\n",
    "\n",
    "def process_input(text: list) -> np.array:\n",
    "    text = [list(line.strip()) for line in text]\n",
    "    arr = np.array(text)\n",
    "    arr[0, 1] = \"S\"\n",
    "    arr[find_end_position(arr)] = \"E\"\n",
    "    arr = np.pad(arr, 1, mode=\"constant\", constant_values=\"#\")\n",
    "    return arr\n",
    "\n",
    "\n",
    "def find_end_position(arr) -> tuple:\n",
    "    return arr.shape[0] - 1, arr.shape[1] - 2\n",
    "\n",
    "\n",
    "def depth_first_search(pos, arr, steps=0):\n",
    "    if (pos, steps - 2) in visited:\n",
    "        return None\n",
    "    visited.add((pos, steps))\n",
    "    if arr[pos] == \"#\":\n",
    "        return None\n",
    "    if arr[pos] == \"E\":\n",
    "        routes.append(steps)\n",
    "        return None\n",
    "    if arr[pos] == \">\":\n",
    "        depth_first_search((pos[0], pos[1] + 1), arr, steps + 1)\n",
    "    elif arr[pos] == \"<\":\n",
    "        depth_first_search((pos[0], pos[1] - 1), arr, steps + 1)\n",
    "    elif arr[pos] == \"v\":\n",
    "        depth_first_search((pos[0] + 1, pos[1]), arr, steps + 1)\n",
    "    elif arr[pos] == \"^\":\n",
    "        depth_first_search((pos[0] - 1, pos[1]), arr, steps + 1)\n",
    "    else:\n",
    "        depth_first_search((pos[0] + 1, pos[1]), arr, steps + 1)\n",
    "        depth_first_search((pos[0] - 1, pos[1]), arr, steps + 1)\n",
    "        depth_first_search((pos[0], pos[1] + 1), arr, steps + 1)\n",
    "        depth_first_search((pos[0], pos[1] - 1), arr, steps + 1)\n",
    "    visited.remove((pos, steps))\n",
    "\n",
    "\n",
    "input_arr = process_input(input_text)\n",
    "start_pos = np.where(input_arr == \"S\")[0][0], np.where(input_arr == \"S\")[1][0]\n",
    "visited = set()\n",
    "routes = []\n",
    "depth_first_search(start_pos, input_arr, steps=0)\n",
    "print(f\"Part 1 Answer: {max(routes)}\")"
   ]
  },
  {
   "cell_type": "code",
   "execution_count": null,
   "metadata": {},
   "outputs": [],
   "source": []
  }
 ],
 "metadata": {
  "kernelspec": {
   "display_name": "logd_pka_calculator",
   "language": "python",
   "name": "python3"
  },
  "language_info": {
   "codemirror_mode": {
    "name": "ipython",
    "version": 3
   },
   "file_extension": ".py",
   "mimetype": "text/x-python",
   "name": "python",
   "nbconvert_exporter": "python",
   "pygments_lexer": "ipython3",
   "version": "3.12.0"
  }
 },
 "nbformat": 4,
 "nbformat_minor": 2
}
