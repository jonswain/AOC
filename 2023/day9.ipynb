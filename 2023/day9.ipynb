{
 "cells": [
  {
   "cell_type": "code",
   "execution_count": 207,
   "metadata": {},
   "outputs": [
    {
     "name": "stdout",
     "output_type": "stream",
     "text": [
      "Part 1 Answer: 1868368343\n",
      "Part 2 Answer: 1022\n"
     ]
    }
   ],
   "source": [
    "def load_input():\n",
    "    input_text = open('inputs/day9.txt', 'r').readlines()\n",
    "    input_text = [line.split() for line in input_text]\n",
    "    input_text = [[int(x) for x in line] for line in input_text]\n",
    "    return input_text\n",
    "\n",
    "def calculate_diff(sequence):\n",
    "    diffs = []\n",
    "    for i in range(len(sequence)-1):\n",
    "        diffs.append(sequence[i+1] - sequence[i])\n",
    "    return diffs\n",
    "\n",
    "def extend_sequence(sequence, part=1):\n",
    "    if set(calculate_diff(sequence)) == set([0]):\n",
    "        return sequence\n",
    "    else:\n",
    "        if part == 1:\n",
    "            sequence.append(sequence[-1] + extend_sequence(calculate_diff(sequence), part=part)[-1])\n",
    "        elif part == 2:\n",
    "            sequence = [sequence[0] - extend_sequence(calculate_diff(sequence), part=part)[0]] + sequence\n",
    "        return sequence\n",
    "\n",
    "def sum_values(text, part=1):\n",
    "    to_sum = []\n",
    "    for seq in text:\n",
    "        to_sum.append(extend_sequence(seq, part=part)[part-2])\n",
    "    return sum(to_sum)\n",
    "\n",
    "print(f\"Part 1 Answer: {sum_values(load_input(), part=1)}\")\n",
    "print(f\"Part 2 Answer: {sum_values(load_input(), part=2)}\")"
   ]
  },
  {
   "cell_type": "code",
   "execution_count": null,
   "metadata": {},
   "outputs": [],
   "source": []
  }
 ],
 "metadata": {
  "kernelspec": {
   "display_name": "AoC_2023",
   "language": "python",
   "name": "python3"
  },
  "language_info": {
   "codemirror_mode": {
    "name": "ipython",
    "version": 3
   },
   "file_extension": ".py",
   "mimetype": "text/x-python",
   "name": "python",
   "nbconvert_exporter": "python",
   "pygments_lexer": "ipython3",
   "version": "3.12.0"
  }
 },
 "nbformat": 4,
 "nbformat_minor": 2
}
