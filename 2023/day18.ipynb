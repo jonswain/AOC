{
 "cells": [
  {
   "cell_type": "code",
   "execution_count": 199,
   "metadata": {},
   "outputs": [
    {
     "name": "stdout",
     "output_type": "stream",
     "text": [
      "Part 1 Answer: 47675\n",
      "Part 2 Answer: 122103757208831\n"
     ]
    }
   ],
   "source": [
    "input_text = open('inputs/day18.txt', 'r').readlines()\n",
    "input_text = [(line.split()[0], int(line.split()[1]), line.split()[2]) for line in input_text]\n",
    "\n",
    "def find_verticies(text):\n",
    "    verticies = []\n",
    "    current_pos = (0, 0)\n",
    "    for direction, distance, _ in text:\n",
    "        verticies.append(current_pos)\n",
    "        y, x = current_pos\n",
    "        if direction == \"U\":\n",
    "            current_pos = (y-distance, x)\n",
    "        elif direction == \"D\":\n",
    "            current_pos = (y+distance, x)\n",
    "        elif direction == \"L\":\n",
    "            current_pos = (y, x-distance)\n",
    "        elif direction == \"R\":\n",
    "            current_pos = (y, x+distance)\n",
    "    return verticies\n",
    "\n",
    "def shoelace_formula(verticies):\n",
    "    to_sum = []\n",
    "    for idx, vertex in enumerate(verticies):\n",
    "        yi, xi = vertex\n",
    "        yplus, xplus = verticies[(idx+1) % len(verticies)]\n",
    "        to_sum.append((yi + yplus) * (xi - xplus))\n",
    "    return sum(to_sum)/2\n",
    "\n",
    "def length_of_sides(text):\n",
    "    return sum(distance for direction, distance, _ in text)\n",
    "\n",
    "def inverse_picks_theorem(text):\n",
    "    area = shoelace_formula(find_verticies(text))\n",
    "    edges = length_of_sides(input_text)\n",
    "    return int((area + 1) + (edges / 2))\n",
    "\n",
    "def part_2_input(text):\n",
    "    direction_map = {\"0\": \"R\", \"1\": \"D\", \"2\": \"L\", \"3\": \"U\"}\n",
    "    return [(direction_map[hex[-2:-1]], int(hex[2:-2], 16), \"_\") for  _, _, hex in text]\n",
    "            \n",
    "print(f\"Part 1 Answer: {inverse_picks_theorem(input_text)}\")\n",
    "print(f\"Part 2 Answer: {inverse_picks_theorem(part_2_input(input_text))}\")"
   ]
  },
  {
   "cell_type": "code",
   "execution_count": null,
   "metadata": {},
   "outputs": [],
   "source": []
  }
 ],
 "metadata": {
  "kernelspec": {
   "display_name": "AoC_2023",
   "language": "python",
   "name": "python3"
  },
  "language_info": {
   "codemirror_mode": {
    "name": "ipython",
    "version": 3
   },
   "file_extension": ".py",
   "mimetype": "text/x-python",
   "name": "python",
   "nbconvert_exporter": "python",
   "pygments_lexer": "ipython3",
   "version": "3.12.0"
  }
 },
 "nbformat": 4,
 "nbformat_minor": 2
}
